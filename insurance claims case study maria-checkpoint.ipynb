{
 "cells": [
  {
   "cell_type": "code",
   "execution_count": 1,
   "id": "d750dda7",
   "metadata": {},
   "outputs": [],
   "source": [
    "import numpy as np\n",
    "import pandas as pd\n",
    "import matplotlib.pyplot as plt"
   ]
  },
  {
   "cell_type": "markdown",
   "id": "75e009bf",
   "metadata": {},
   "source": [
    "## Q1. Import claims_data.csv and cust_data.csv which is provided to you and combine the two datasets appropriately to create a 360-degree view of the data. Use the same for the subsequent questions."
   ]
  },
  {
   "cell_type": "code",
   "execution_count": 3,
   "id": "27bb85f6",
   "metadata": {},
   "outputs": [],
   "source": [
    "claims=pd.read_csv(\"C:/Users/fahad/Downloads/claims.csv\")\n",
    "cust_demographic=pd.read_csv(\"C:/Users/fahad/Downloads/cust_demographics.csv\")"
   ]
  },
  {
   "cell_type": "code",
   "execution_count": 4,
   "id": "fc4a531f",
   "metadata": {},
   "outputs": [
    {
     "data": {
      "text/html": [
       "<div>\n",
       "<style scoped>\n",
       "    .dataframe tbody tr th:only-of-type {\n",
       "        vertical-align: middle;\n",
       "    }\n",
       "\n",
       "    .dataframe tbody tr th {\n",
       "        vertical-align: top;\n",
       "    }\n",
       "\n",
       "    .dataframe thead th {\n",
       "        text-align: right;\n",
       "    }\n",
       "</style>\n",
       "<table border=\"1\" class=\"dataframe\">\n",
       "  <thead>\n",
       "    <tr style=\"text-align: right;\">\n",
       "      <th></th>\n",
       "      <th>claim_id</th>\n",
       "      <th>customer_id</th>\n",
       "      <th>incident_cause</th>\n",
       "      <th>claim_date</th>\n",
       "      <th>claim_area</th>\n",
       "      <th>police_report</th>\n",
       "      <th>claim_type</th>\n",
       "      <th>claim_amount</th>\n",
       "      <th>total_policy_claims</th>\n",
       "      <th>fraudulent</th>\n",
       "    </tr>\n",
       "  </thead>\n",
       "  <tbody>\n",
       "    <tr>\n",
       "      <th>0</th>\n",
       "      <td>54004764</td>\n",
       "      <td>21868593</td>\n",
       "      <td>Driver error</td>\n",
       "      <td>11/27/2017</td>\n",
       "      <td>Auto</td>\n",
       "      <td>No</td>\n",
       "      <td>Material only</td>\n",
       "      <td>$2980</td>\n",
       "      <td>1.0</td>\n",
       "      <td>No</td>\n",
       "    </tr>\n",
       "    <tr>\n",
       "      <th>1</th>\n",
       "      <td>33985796</td>\n",
       "      <td>75740424</td>\n",
       "      <td>Crime</td>\n",
       "      <td>10-03-2018</td>\n",
       "      <td>Home</td>\n",
       "      <td>Unknown</td>\n",
       "      <td>Material only</td>\n",
       "      <td>$2980</td>\n",
       "      <td>3.0</td>\n",
       "      <td>No</td>\n",
       "    </tr>\n",
       "    <tr>\n",
       "      <th>2</th>\n",
       "      <td>53522022</td>\n",
       "      <td>30308357</td>\n",
       "      <td>Other driver error</td>\n",
       "      <td>02-02-2018</td>\n",
       "      <td>Auto</td>\n",
       "      <td>No</td>\n",
       "      <td>Material only</td>\n",
       "      <td>$3369.5</td>\n",
       "      <td>1.0</td>\n",
       "      <td>Yes</td>\n",
       "    </tr>\n",
       "    <tr>\n",
       "      <th>3</th>\n",
       "      <td>13015401</td>\n",
       "      <td>47830476</td>\n",
       "      <td>Natural causes</td>\n",
       "      <td>06/17/2018</td>\n",
       "      <td>Auto</td>\n",
       "      <td>No</td>\n",
       "      <td>Material only</td>\n",
       "      <td>$1680</td>\n",
       "      <td>1.0</td>\n",
       "      <td>No</td>\n",
       "    </tr>\n",
       "    <tr>\n",
       "      <th>4</th>\n",
       "      <td>22890252</td>\n",
       "      <td>19269962</td>\n",
       "      <td>Crime</td>\n",
       "      <td>01/13/2018</td>\n",
       "      <td>Auto</td>\n",
       "      <td>No</td>\n",
       "      <td>Material only</td>\n",
       "      <td>$2680</td>\n",
       "      <td>1.0</td>\n",
       "      <td>No</td>\n",
       "    </tr>\n",
       "  </tbody>\n",
       "</table>\n",
       "</div>"
      ],
      "text/plain": [
       "   claim_id  customer_id      incident_cause  claim_date claim_area  \\\n",
       "0  54004764     21868593        Driver error  11/27/2017       Auto   \n",
       "1  33985796     75740424               Crime  10-03-2018       Home   \n",
       "2  53522022     30308357  Other driver error  02-02-2018       Auto   \n",
       "3  13015401     47830476      Natural causes  06/17/2018       Auto   \n",
       "4  22890252     19269962               Crime  01/13/2018       Auto   \n",
       "\n",
       "  police_report     claim_type claim_amount  total_policy_claims fraudulent  \n",
       "0            No  Material only        $2980                  1.0         No  \n",
       "1       Unknown  Material only        $2980                  3.0         No  \n",
       "2            No  Material only      $3369.5                  1.0        Yes  \n",
       "3            No  Material only        $1680                  1.0         No  \n",
       "4            No  Material only        $2680                  1.0         No  "
      ]
     },
     "execution_count": 4,
     "metadata": {},
     "output_type": "execute_result"
    }
   ],
   "source": [
    "claims.head(5)"
   ]
  },
  {
   "cell_type": "code",
   "execution_count": 5,
   "id": "63c268bf",
   "metadata": {},
   "outputs": [
    {
     "data": {
      "text/html": [
       "<div>\n",
       "<style scoped>\n",
       "    .dataframe tbody tr th:only-of-type {\n",
       "        vertical-align: middle;\n",
       "    }\n",
       "\n",
       "    .dataframe tbody tr th {\n",
       "        vertical-align: top;\n",
       "    }\n",
       "\n",
       "    .dataframe thead th {\n",
       "        text-align: right;\n",
       "    }\n",
       "</style>\n",
       "<table border=\"1\" class=\"dataframe\">\n",
       "  <thead>\n",
       "    <tr style=\"text-align: right;\">\n",
       "      <th></th>\n",
       "      <th>CUST_ID</th>\n",
       "      <th>gender</th>\n",
       "      <th>DateOfBirth</th>\n",
       "      <th>State</th>\n",
       "      <th>Contact</th>\n",
       "      <th>Segment</th>\n",
       "    </tr>\n",
       "  </thead>\n",
       "  <tbody>\n",
       "    <tr>\n",
       "      <th>0</th>\n",
       "      <td>21868593</td>\n",
       "      <td>Female</td>\n",
       "      <td>12-Jan-79</td>\n",
       "      <td>VT</td>\n",
       "      <td>789-916-8172</td>\n",
       "      <td>Platinum</td>\n",
       "    </tr>\n",
       "    <tr>\n",
       "      <th>1</th>\n",
       "      <td>75740424</td>\n",
       "      <td>Female</td>\n",
       "      <td>13-Jan-70</td>\n",
       "      <td>ME</td>\n",
       "      <td>265-543-1264</td>\n",
       "      <td>Silver</td>\n",
       "    </tr>\n",
       "    <tr>\n",
       "      <th>2</th>\n",
       "      <td>30308357</td>\n",
       "      <td>Female</td>\n",
       "      <td>11-Mar-84</td>\n",
       "      <td>TN</td>\n",
       "      <td>798-631-4758</td>\n",
       "      <td>Silver</td>\n",
       "    </tr>\n",
       "    <tr>\n",
       "      <th>3</th>\n",
       "      <td>47830476</td>\n",
       "      <td>Female</td>\n",
       "      <td>01-May-86</td>\n",
       "      <td>MA</td>\n",
       "      <td>413-187-7945</td>\n",
       "      <td>Silver</td>\n",
       "    </tr>\n",
       "    <tr>\n",
       "      <th>4</th>\n",
       "      <td>19269962</td>\n",
       "      <td>Male</td>\n",
       "      <td>13-May-77</td>\n",
       "      <td>NV</td>\n",
       "      <td>956-871-8691</td>\n",
       "      <td>Gold</td>\n",
       "    </tr>\n",
       "  </tbody>\n",
       "</table>\n",
       "</div>"
      ],
      "text/plain": [
       "    CUST_ID  gender DateOfBirth State       Contact   Segment\n",
       "0  21868593  Female   12-Jan-79    VT  789-916-8172  Platinum\n",
       "1  75740424  Female   13-Jan-70    ME  265-543-1264    Silver\n",
       "2  30308357  Female   11-Mar-84    TN  798-631-4758    Silver\n",
       "3  47830476  Female   01-May-86    MA  413-187-7945    Silver\n",
       "4  19269962    Male   13-May-77    NV  956-871-8691      Gold"
      ]
     },
     "execution_count": 5,
     "metadata": {},
     "output_type": "execute_result"
    }
   ],
   "source": [
    "cust_demographic.head(5)"
   ]
  },
  {
   "cell_type": "code",
   "execution_count": 6,
   "id": "147d0380",
   "metadata": {},
   "outputs": [],
   "source": [
    "cust_claims=pd.merge(cust_demographic,claims, left_on=\"CUST_ID\",right_on=\"customer_id\",how=\"inner\")"
   ]
  },
  {
   "cell_type": "code",
   "execution_count": 7,
   "id": "41ab89ab",
   "metadata": {},
   "outputs": [
    {
     "data": {
      "text/html": [
       "<div>\n",
       "<style scoped>\n",
       "    .dataframe tbody tr th:only-of-type {\n",
       "        vertical-align: middle;\n",
       "    }\n",
       "\n",
       "    .dataframe tbody tr th {\n",
       "        vertical-align: top;\n",
       "    }\n",
       "\n",
       "    .dataframe thead th {\n",
       "        text-align: right;\n",
       "    }\n",
       "</style>\n",
       "<table border=\"1\" class=\"dataframe\">\n",
       "  <thead>\n",
       "    <tr style=\"text-align: right;\">\n",
       "      <th></th>\n",
       "      <th>CUST_ID</th>\n",
       "      <th>gender</th>\n",
       "      <th>DateOfBirth</th>\n",
       "      <th>State</th>\n",
       "      <th>Contact</th>\n",
       "      <th>Segment</th>\n",
       "      <th>claim_id</th>\n",
       "      <th>customer_id</th>\n",
       "      <th>incident_cause</th>\n",
       "      <th>claim_date</th>\n",
       "      <th>claim_area</th>\n",
       "      <th>police_report</th>\n",
       "      <th>claim_type</th>\n",
       "      <th>claim_amount</th>\n",
       "      <th>total_policy_claims</th>\n",
       "      <th>fraudulent</th>\n",
       "    </tr>\n",
       "  </thead>\n",
       "  <tbody>\n",
       "    <tr>\n",
       "      <th>0</th>\n",
       "      <td>21868593</td>\n",
       "      <td>Female</td>\n",
       "      <td>12-Jan-79</td>\n",
       "      <td>VT</td>\n",
       "      <td>789-916-8172</td>\n",
       "      <td>Platinum</td>\n",
       "      <td>54004764</td>\n",
       "      <td>21868593</td>\n",
       "      <td>Driver error</td>\n",
       "      <td>11/27/2017</td>\n",
       "      <td>Auto</td>\n",
       "      <td>No</td>\n",
       "      <td>Material only</td>\n",
       "      <td>$2980</td>\n",
       "      <td>1.0</td>\n",
       "      <td>No</td>\n",
       "    </tr>\n",
       "    <tr>\n",
       "      <th>1</th>\n",
       "      <td>75740424</td>\n",
       "      <td>Female</td>\n",
       "      <td>13-Jan-70</td>\n",
       "      <td>ME</td>\n",
       "      <td>265-543-1264</td>\n",
       "      <td>Silver</td>\n",
       "      <td>33985796</td>\n",
       "      <td>75740424</td>\n",
       "      <td>Crime</td>\n",
       "      <td>10-03-2018</td>\n",
       "      <td>Home</td>\n",
       "      <td>Unknown</td>\n",
       "      <td>Material only</td>\n",
       "      <td>$2980</td>\n",
       "      <td>3.0</td>\n",
       "      <td>No</td>\n",
       "    </tr>\n",
       "    <tr>\n",
       "      <th>2</th>\n",
       "      <td>30308357</td>\n",
       "      <td>Female</td>\n",
       "      <td>11-Mar-84</td>\n",
       "      <td>TN</td>\n",
       "      <td>798-631-4758</td>\n",
       "      <td>Silver</td>\n",
       "      <td>53522022</td>\n",
       "      <td>30308357</td>\n",
       "      <td>Other driver error</td>\n",
       "      <td>02-02-2018</td>\n",
       "      <td>Auto</td>\n",
       "      <td>No</td>\n",
       "      <td>Material only</td>\n",
       "      <td>$3369.5</td>\n",
       "      <td>1.0</td>\n",
       "      <td>Yes</td>\n",
       "    </tr>\n",
       "    <tr>\n",
       "      <th>3</th>\n",
       "      <td>30308357</td>\n",
       "      <td>Female</td>\n",
       "      <td>11-Mar-84</td>\n",
       "      <td>TN</td>\n",
       "      <td>798-631-4758</td>\n",
       "      <td>Silver</td>\n",
       "      <td>63017412</td>\n",
       "      <td>30308357</td>\n",
       "      <td>Driver error</td>\n",
       "      <td>04-04-2018</td>\n",
       "      <td>Auto</td>\n",
       "      <td>No</td>\n",
       "      <td>Material only</td>\n",
       "      <td>$1950</td>\n",
       "      <td>6.0</td>\n",
       "      <td>No</td>\n",
       "    </tr>\n",
       "    <tr>\n",
       "      <th>4</th>\n",
       "      <td>47830476</td>\n",
       "      <td>Female</td>\n",
       "      <td>01-May-86</td>\n",
       "      <td>MA</td>\n",
       "      <td>413-187-7945</td>\n",
       "      <td>Silver</td>\n",
       "      <td>13015401</td>\n",
       "      <td>47830476</td>\n",
       "      <td>Natural causes</td>\n",
       "      <td>06/17/2018</td>\n",
       "      <td>Auto</td>\n",
       "      <td>No</td>\n",
       "      <td>Material only</td>\n",
       "      <td>$1680</td>\n",
       "      <td>1.0</td>\n",
       "      <td>No</td>\n",
       "    </tr>\n",
       "  </tbody>\n",
       "</table>\n",
       "</div>"
      ],
      "text/plain": [
       "    CUST_ID  gender DateOfBirth State       Contact   Segment  claim_id  \\\n",
       "0  21868593  Female   12-Jan-79    VT  789-916-8172  Platinum  54004764   \n",
       "1  75740424  Female   13-Jan-70    ME  265-543-1264    Silver  33985796   \n",
       "2  30308357  Female   11-Mar-84    TN  798-631-4758    Silver  53522022   \n",
       "3  30308357  Female   11-Mar-84    TN  798-631-4758    Silver  63017412   \n",
       "4  47830476  Female   01-May-86    MA  413-187-7945    Silver  13015401   \n",
       "\n",
       "   customer_id      incident_cause  claim_date claim_area police_report  \\\n",
       "0     21868593        Driver error  11/27/2017       Auto            No   \n",
       "1     75740424               Crime  10-03-2018       Home       Unknown   \n",
       "2     30308357  Other driver error  02-02-2018       Auto            No   \n",
       "3     30308357        Driver error  04-04-2018       Auto            No   \n",
       "4     47830476      Natural causes  06/17/2018       Auto            No   \n",
       "\n",
       "      claim_type claim_amount  total_policy_claims fraudulent  \n",
       "0  Material only        $2980                  1.0         No  \n",
       "1  Material only        $2980                  3.0         No  \n",
       "2  Material only      $3369.5                  1.0        Yes  \n",
       "3  Material only        $1950                  6.0         No  \n",
       "4  Material only        $1680                  1.0         No  "
      ]
     },
     "execution_count": 7,
     "metadata": {},
     "output_type": "execute_result"
    }
   ],
   "source": [
    "cust_claims.head(5)"
   ]
  },
  {
   "cell_type": "markdown",
   "id": "25cb1260",
   "metadata": {},
   "source": [
    "## Q2. Perform a data audit for the datatypes and find out if there are any mismatch within the current datatypes of the columns and their business significance."
   ]
  },
  {
   "cell_type": "code",
   "execution_count": 9,
   "id": "9cbf48d7",
   "metadata": {},
   "outputs": [
    {
     "name": "stdout",
     "output_type": "stream",
     "text": [
      "<class 'pandas.core.frame.DataFrame'>\n",
      "Int64Index: 1085 entries, 0 to 1084\n",
      "Data columns (total 16 columns):\n",
      " #   Column               Non-Null Count  Dtype  \n",
      "---  ------               --------------  -----  \n",
      " 0   CUST_ID              1085 non-null   int64  \n",
      " 1   gender               1085 non-null   object \n",
      " 2   DateOfBirth          1085 non-null   object \n",
      " 3   State                1085 non-null   object \n",
      " 4   Contact              1085 non-null   object \n",
      " 5   Segment              1085 non-null   object \n",
      " 6   claim_id             1085 non-null   int64  \n",
      " 7   customer_id          1085 non-null   int64  \n",
      " 8   incident_cause       1085 non-null   object \n",
      " 9   claim_date           1085 non-null   object \n",
      " 10  claim_area           1085 non-null   object \n",
      " 11  police_report        1085 non-null   object \n",
      " 12  claim_type           1085 non-null   object \n",
      " 13  claim_amount         1020 non-null   object \n",
      " 14  total_policy_claims  1075 non-null   float64\n",
      " 15  fraudulent           1085 non-null   object \n",
      "dtypes: float64(1), int64(3), object(12)\n",
      "memory usage: 144.1+ KB\n"
     ]
    }
   ],
   "source": [
    "cust_claims.info()"
   ]
  },
  {
   "cell_type": "code",
   "execution_count": 10,
   "id": "9a99bc77",
   "metadata": {},
   "outputs": [],
   "source": [
    "cust_claims['DateOfBirth']=pd.to_datetime(cust_claims['DateOfBirth'])"
   ]
  },
  {
   "cell_type": "code",
   "execution_count": 11,
   "id": "05244588",
   "metadata": {},
   "outputs": [],
   "source": [
    "cust_claims['claim_date']=pd.to_datetime(cust_claims['claim_date'])"
   ]
  },
  {
   "cell_type": "code",
   "execution_count": 12,
   "id": "a9a1d8be",
   "metadata": {},
   "outputs": [],
   "source": [
    "#removing '-' and changing the datatype\n",
    "cust_claims['Contact']=cust_claims['Contact'].str.replace('-','')\n",
    "cust_claims['Contact']=cust_claims['Contact'].astype('float')"
   ]
  },
  {
   "cell_type": "code",
   "execution_count": 13,
   "id": "4d881aa2",
   "metadata": {},
   "outputs": [
    {
     "name": "stderr",
     "output_type": "stream",
     "text": [
      "C:\\Users\\fahad\\AppData\\Local\\Temp\\ipykernel_22096\\93846964.py:1: FutureWarning: The default value of regex will change from True to False in a future version. In addition, single character regular expressions will *not* be treated as literal strings when regex=True.\n",
      "  cust_claims['claim_amount']=cust_claims['claim_amount'].str.replace('$','')\n"
     ]
    }
   ],
   "source": [
    "cust_claims['claim_amount']=cust_claims['claim_amount'].str.replace('$','')"
   ]
  },
  {
   "cell_type": "markdown",
   "id": "c9c3ec91",
   "metadata": {},
   "source": [
    "## Q3. Convert the column claim_amount to numeric. Use the appropriate modules/attributes to remove the $ sign."
   ]
  },
  {
   "cell_type": "code",
   "execution_count": 15,
   "id": "65d0f879",
   "metadata": {},
   "outputs": [],
   "source": [
    "cust_claims['claim_amount']=cust_claims['claim_amount'].astype('float')"
   ]
  },
  {
   "cell_type": "code",
   "execution_count": 16,
   "id": "fefe8512",
   "metadata": {},
   "outputs": [
    {
     "data": {
      "text/html": [
       "<div>\n",
       "<style scoped>\n",
       "    .dataframe tbody tr th:only-of-type {\n",
       "        vertical-align: middle;\n",
       "    }\n",
       "\n",
       "    .dataframe tbody tr th {\n",
       "        vertical-align: top;\n",
       "    }\n",
       "\n",
       "    .dataframe thead th {\n",
       "        text-align: right;\n",
       "    }\n",
       "</style>\n",
       "<table border=\"1\" class=\"dataframe\">\n",
       "  <thead>\n",
       "    <tr style=\"text-align: right;\">\n",
       "      <th></th>\n",
       "      <th>CUST_ID</th>\n",
       "      <th>gender</th>\n",
       "      <th>DateOfBirth</th>\n",
       "      <th>State</th>\n",
       "      <th>Contact</th>\n",
       "      <th>Segment</th>\n",
       "      <th>claim_id</th>\n",
       "      <th>customer_id</th>\n",
       "      <th>incident_cause</th>\n",
       "      <th>claim_date</th>\n",
       "      <th>claim_area</th>\n",
       "      <th>police_report</th>\n",
       "      <th>claim_type</th>\n",
       "      <th>claim_amount</th>\n",
       "      <th>total_policy_claims</th>\n",
       "      <th>fraudulent</th>\n",
       "    </tr>\n",
       "  </thead>\n",
       "  <tbody>\n",
       "    <tr>\n",
       "      <th>0</th>\n",
       "      <td>21868593</td>\n",
       "      <td>Female</td>\n",
       "      <td>1979-01-12</td>\n",
       "      <td>VT</td>\n",
       "      <td>7.899168e+09</td>\n",
       "      <td>Platinum</td>\n",
       "      <td>54004764</td>\n",
       "      <td>21868593</td>\n",
       "      <td>Driver error</td>\n",
       "      <td>2017-11-27</td>\n",
       "      <td>Auto</td>\n",
       "      <td>No</td>\n",
       "      <td>Material only</td>\n",
       "      <td>2980.0</td>\n",
       "      <td>1.0</td>\n",
       "      <td>No</td>\n",
       "    </tr>\n",
       "    <tr>\n",
       "      <th>1</th>\n",
       "      <td>75740424</td>\n",
       "      <td>Female</td>\n",
       "      <td>2070-01-13</td>\n",
       "      <td>ME</td>\n",
       "      <td>2.655431e+09</td>\n",
       "      <td>Silver</td>\n",
       "      <td>33985796</td>\n",
       "      <td>75740424</td>\n",
       "      <td>Crime</td>\n",
       "      <td>2018-10-03</td>\n",
       "      <td>Home</td>\n",
       "      <td>Unknown</td>\n",
       "      <td>Material only</td>\n",
       "      <td>2980.0</td>\n",
       "      <td>3.0</td>\n",
       "      <td>No</td>\n",
       "    </tr>\n",
       "    <tr>\n",
       "      <th>2</th>\n",
       "      <td>30308357</td>\n",
       "      <td>Female</td>\n",
       "      <td>1984-03-11</td>\n",
       "      <td>TN</td>\n",
       "      <td>7.986315e+09</td>\n",
       "      <td>Silver</td>\n",
       "      <td>53522022</td>\n",
       "      <td>30308357</td>\n",
       "      <td>Other driver error</td>\n",
       "      <td>2018-02-02</td>\n",
       "      <td>Auto</td>\n",
       "      <td>No</td>\n",
       "      <td>Material only</td>\n",
       "      <td>3369.5</td>\n",
       "      <td>1.0</td>\n",
       "      <td>Yes</td>\n",
       "    </tr>\n",
       "    <tr>\n",
       "      <th>3</th>\n",
       "      <td>30308357</td>\n",
       "      <td>Female</td>\n",
       "      <td>1984-03-11</td>\n",
       "      <td>TN</td>\n",
       "      <td>7.986315e+09</td>\n",
       "      <td>Silver</td>\n",
       "      <td>63017412</td>\n",
       "      <td>30308357</td>\n",
       "      <td>Driver error</td>\n",
       "      <td>2018-04-04</td>\n",
       "      <td>Auto</td>\n",
       "      <td>No</td>\n",
       "      <td>Material only</td>\n",
       "      <td>1950.0</td>\n",
       "      <td>6.0</td>\n",
       "      <td>No</td>\n",
       "    </tr>\n",
       "    <tr>\n",
       "      <th>4</th>\n",
       "      <td>47830476</td>\n",
       "      <td>Female</td>\n",
       "      <td>1986-05-01</td>\n",
       "      <td>MA</td>\n",
       "      <td>4.131878e+09</td>\n",
       "      <td>Silver</td>\n",
       "      <td>13015401</td>\n",
       "      <td>47830476</td>\n",
       "      <td>Natural causes</td>\n",
       "      <td>2018-06-17</td>\n",
       "      <td>Auto</td>\n",
       "      <td>No</td>\n",
       "      <td>Material only</td>\n",
       "      <td>1680.0</td>\n",
       "      <td>1.0</td>\n",
       "      <td>No</td>\n",
       "    </tr>\n",
       "  </tbody>\n",
       "</table>\n",
       "</div>"
      ],
      "text/plain": [
       "    CUST_ID  gender DateOfBirth State       Contact   Segment  claim_id  \\\n",
       "0  21868593  Female  1979-01-12    VT  7.899168e+09  Platinum  54004764   \n",
       "1  75740424  Female  2070-01-13    ME  2.655431e+09    Silver  33985796   \n",
       "2  30308357  Female  1984-03-11    TN  7.986315e+09    Silver  53522022   \n",
       "3  30308357  Female  1984-03-11    TN  7.986315e+09    Silver  63017412   \n",
       "4  47830476  Female  1986-05-01    MA  4.131878e+09    Silver  13015401   \n",
       "\n",
       "   customer_id      incident_cause claim_date claim_area police_report  \\\n",
       "0     21868593        Driver error 2017-11-27       Auto            No   \n",
       "1     75740424               Crime 2018-10-03       Home       Unknown   \n",
       "2     30308357  Other driver error 2018-02-02       Auto            No   \n",
       "3     30308357        Driver error 2018-04-04       Auto            No   \n",
       "4     47830476      Natural causes 2018-06-17       Auto            No   \n",
       "\n",
       "      claim_type  claim_amount  total_policy_claims fraudulent  \n",
       "0  Material only        2980.0                  1.0         No  \n",
       "1  Material only        2980.0                  3.0         No  \n",
       "2  Material only        3369.5                  1.0        Yes  \n",
       "3  Material only        1950.0                  6.0         No  \n",
       "4  Material only        1680.0                  1.0         No  "
      ]
     },
     "execution_count": 16,
     "metadata": {},
     "output_type": "execute_result"
    }
   ],
   "source": [
    "cust_claims.head()"
   ]
  },
  {
   "cell_type": "markdown",
   "id": "00f80e81",
   "metadata": {},
   "source": [
    "## Q4. Of all the injury claims, some of them have gone unreported with the police. Create an alert flag (1,0) for all such claims."
   ]
  },
  {
   "cell_type": "code",
   "execution_count": 18,
   "id": "49863197",
   "metadata": {},
   "outputs": [],
   "source": [
    "cust_claims['flag']=np.where(cust_claims.police_report=='No',0,np.where(cust_claims.police_report=='Yes',1,'Unknown'))"
   ]
  },
  {
   "cell_type": "code",
   "execution_count": 19,
   "id": "a11c415c",
   "metadata": {},
   "outputs": [
    {
     "data": {
      "text/html": [
       "<div>\n",
       "<style scoped>\n",
       "    .dataframe tbody tr th:only-of-type {\n",
       "        vertical-align: middle;\n",
       "    }\n",
       "\n",
       "    .dataframe tbody tr th {\n",
       "        vertical-align: top;\n",
       "    }\n",
       "\n",
       "    .dataframe thead th {\n",
       "        text-align: right;\n",
       "    }\n",
       "</style>\n",
       "<table border=\"1\" class=\"dataframe\">\n",
       "  <thead>\n",
       "    <tr style=\"text-align: right;\">\n",
       "      <th></th>\n",
       "      <th>CUST_ID</th>\n",
       "      <th>gender</th>\n",
       "      <th>DateOfBirth</th>\n",
       "      <th>State</th>\n",
       "      <th>Contact</th>\n",
       "      <th>Segment</th>\n",
       "      <th>claim_id</th>\n",
       "      <th>customer_id</th>\n",
       "      <th>incident_cause</th>\n",
       "      <th>claim_date</th>\n",
       "      <th>claim_area</th>\n",
       "      <th>police_report</th>\n",
       "      <th>claim_type</th>\n",
       "      <th>claim_amount</th>\n",
       "      <th>total_policy_claims</th>\n",
       "      <th>fraudulent</th>\n",
       "      <th>flag</th>\n",
       "    </tr>\n",
       "  </thead>\n",
       "  <tbody>\n",
       "    <tr>\n",
       "      <th>0</th>\n",
       "      <td>21868593</td>\n",
       "      <td>Female</td>\n",
       "      <td>1979-01-12</td>\n",
       "      <td>VT</td>\n",
       "      <td>7.899168e+09</td>\n",
       "      <td>Platinum</td>\n",
       "      <td>54004764</td>\n",
       "      <td>21868593</td>\n",
       "      <td>Driver error</td>\n",
       "      <td>2017-11-27</td>\n",
       "      <td>Auto</td>\n",
       "      <td>No</td>\n",
       "      <td>Material only</td>\n",
       "      <td>2980.0</td>\n",
       "      <td>1.0</td>\n",
       "      <td>No</td>\n",
       "      <td>0</td>\n",
       "    </tr>\n",
       "    <tr>\n",
       "      <th>1</th>\n",
       "      <td>75740424</td>\n",
       "      <td>Female</td>\n",
       "      <td>2070-01-13</td>\n",
       "      <td>ME</td>\n",
       "      <td>2.655431e+09</td>\n",
       "      <td>Silver</td>\n",
       "      <td>33985796</td>\n",
       "      <td>75740424</td>\n",
       "      <td>Crime</td>\n",
       "      <td>2018-10-03</td>\n",
       "      <td>Home</td>\n",
       "      <td>Unknown</td>\n",
       "      <td>Material only</td>\n",
       "      <td>2980.0</td>\n",
       "      <td>3.0</td>\n",
       "      <td>No</td>\n",
       "      <td>Unknown</td>\n",
       "    </tr>\n",
       "    <tr>\n",
       "      <th>2</th>\n",
       "      <td>30308357</td>\n",
       "      <td>Female</td>\n",
       "      <td>1984-03-11</td>\n",
       "      <td>TN</td>\n",
       "      <td>7.986315e+09</td>\n",
       "      <td>Silver</td>\n",
       "      <td>53522022</td>\n",
       "      <td>30308357</td>\n",
       "      <td>Other driver error</td>\n",
       "      <td>2018-02-02</td>\n",
       "      <td>Auto</td>\n",
       "      <td>No</td>\n",
       "      <td>Material only</td>\n",
       "      <td>3369.5</td>\n",
       "      <td>1.0</td>\n",
       "      <td>Yes</td>\n",
       "      <td>0</td>\n",
       "    </tr>\n",
       "    <tr>\n",
       "      <th>3</th>\n",
       "      <td>30308357</td>\n",
       "      <td>Female</td>\n",
       "      <td>1984-03-11</td>\n",
       "      <td>TN</td>\n",
       "      <td>7.986315e+09</td>\n",
       "      <td>Silver</td>\n",
       "      <td>63017412</td>\n",
       "      <td>30308357</td>\n",
       "      <td>Driver error</td>\n",
       "      <td>2018-04-04</td>\n",
       "      <td>Auto</td>\n",
       "      <td>No</td>\n",
       "      <td>Material only</td>\n",
       "      <td>1950.0</td>\n",
       "      <td>6.0</td>\n",
       "      <td>No</td>\n",
       "      <td>0</td>\n",
       "    </tr>\n",
       "    <tr>\n",
       "      <th>4</th>\n",
       "      <td>47830476</td>\n",
       "      <td>Female</td>\n",
       "      <td>1986-05-01</td>\n",
       "      <td>MA</td>\n",
       "      <td>4.131878e+09</td>\n",
       "      <td>Silver</td>\n",
       "      <td>13015401</td>\n",
       "      <td>47830476</td>\n",
       "      <td>Natural causes</td>\n",
       "      <td>2018-06-17</td>\n",
       "      <td>Auto</td>\n",
       "      <td>No</td>\n",
       "      <td>Material only</td>\n",
       "      <td>1680.0</td>\n",
       "      <td>1.0</td>\n",
       "      <td>No</td>\n",
       "      <td>0</td>\n",
       "    </tr>\n",
       "  </tbody>\n",
       "</table>\n",
       "</div>"
      ],
      "text/plain": [
       "    CUST_ID  gender DateOfBirth State       Contact   Segment  claim_id  \\\n",
       "0  21868593  Female  1979-01-12    VT  7.899168e+09  Platinum  54004764   \n",
       "1  75740424  Female  2070-01-13    ME  2.655431e+09    Silver  33985796   \n",
       "2  30308357  Female  1984-03-11    TN  7.986315e+09    Silver  53522022   \n",
       "3  30308357  Female  1984-03-11    TN  7.986315e+09    Silver  63017412   \n",
       "4  47830476  Female  1986-05-01    MA  4.131878e+09    Silver  13015401   \n",
       "\n",
       "   customer_id      incident_cause claim_date claim_area police_report  \\\n",
       "0     21868593        Driver error 2017-11-27       Auto            No   \n",
       "1     75740424               Crime 2018-10-03       Home       Unknown   \n",
       "2     30308357  Other driver error 2018-02-02       Auto            No   \n",
       "3     30308357        Driver error 2018-04-04       Auto            No   \n",
       "4     47830476      Natural causes 2018-06-17       Auto            No   \n",
       "\n",
       "      claim_type  claim_amount  total_policy_claims fraudulent     flag  \n",
       "0  Material only        2980.0                  1.0         No        0  \n",
       "1  Material only        2980.0                  3.0         No  Unknown  \n",
       "2  Material only        3369.5                  1.0        Yes        0  \n",
       "3  Material only        1950.0                  6.0         No        0  \n",
       "4  Material only        1680.0                  1.0         No        0  "
      ]
     },
     "execution_count": 19,
     "metadata": {},
     "output_type": "execute_result"
    }
   ],
   "source": [
    "cust_claims.head()"
   ]
  },
  {
   "cell_type": "markdown",
   "id": "9c53a0ef",
   "metadata": {},
   "source": [
    "## Q5. One customer can claim for insurance more than once and in each claim,multiple categories of claims can be involved. However, customer ID should remain unique. Retain the most recent observation and delete any duplicated records in the data based on the customer ID column."
   ]
  },
  {
   "cell_type": "code",
   "execution_count": 21,
   "id": "7751e179",
   "metadata": {},
   "outputs": [],
   "source": [
    "insurance_claims=cust_claims.groupby('CUST_ID').first()\n",
    "insurance_claims.drop_duplicates(inplace=True)"
   ]
  },
  {
   "cell_type": "code",
   "execution_count": 22,
   "id": "70c424e7",
   "metadata": {},
   "outputs": [
    {
     "data": {
      "text/html": [
       "<div>\n",
       "<style scoped>\n",
       "    .dataframe tbody tr th:only-of-type {\n",
       "        vertical-align: middle;\n",
       "    }\n",
       "\n",
       "    .dataframe tbody tr th {\n",
       "        vertical-align: top;\n",
       "    }\n",
       "\n",
       "    .dataframe thead th {\n",
       "        text-align: right;\n",
       "    }\n",
       "</style>\n",
       "<table border=\"1\" class=\"dataframe\">\n",
       "  <thead>\n",
       "    <tr style=\"text-align: right;\">\n",
       "      <th></th>\n",
       "      <th>gender</th>\n",
       "      <th>DateOfBirth</th>\n",
       "      <th>State</th>\n",
       "      <th>Contact</th>\n",
       "      <th>Segment</th>\n",
       "      <th>claim_id</th>\n",
       "      <th>customer_id</th>\n",
       "      <th>incident_cause</th>\n",
       "      <th>claim_date</th>\n",
       "      <th>claim_area</th>\n",
       "      <th>police_report</th>\n",
       "      <th>claim_type</th>\n",
       "      <th>claim_amount</th>\n",
       "      <th>total_policy_claims</th>\n",
       "      <th>fraudulent</th>\n",
       "      <th>flag</th>\n",
       "    </tr>\n",
       "    <tr>\n",
       "      <th>CUST_ID</th>\n",
       "      <th></th>\n",
       "      <th></th>\n",
       "      <th></th>\n",
       "      <th></th>\n",
       "      <th></th>\n",
       "      <th></th>\n",
       "      <th></th>\n",
       "      <th></th>\n",
       "      <th></th>\n",
       "      <th></th>\n",
       "      <th></th>\n",
       "      <th></th>\n",
       "      <th></th>\n",
       "      <th></th>\n",
       "      <th></th>\n",
       "      <th></th>\n",
       "    </tr>\n",
       "  </thead>\n",
       "  <tbody>\n",
       "    <tr>\n",
       "      <th>154557</th>\n",
       "      <td>Female</td>\n",
       "      <td>1978-05-23</td>\n",
       "      <td>DE</td>\n",
       "      <td>9.628791e+09</td>\n",
       "      <td>Platinum</td>\n",
       "      <td>69348631</td>\n",
       "      <td>154557</td>\n",
       "      <td>Driver error</td>\n",
       "      <td>2018-04-10</td>\n",
       "      <td>Auto</td>\n",
       "      <td>No</td>\n",
       "      <td>Injury only</td>\n",
       "      <td>NaN</td>\n",
       "      <td>1.0</td>\n",
       "      <td>Yes</td>\n",
       "      <td>0</td>\n",
       "    </tr>\n",
       "    <tr>\n",
       "      <th>263204</th>\n",
       "      <td>Male</td>\n",
       "      <td>2072-12-20</td>\n",
       "      <td>TX</td>\n",
       "      <td>1.738926e+09</td>\n",
       "      <td>Silver</td>\n",
       "      <td>40953049</td>\n",
       "      <td>263204</td>\n",
       "      <td>Other causes</td>\n",
       "      <td>2018-04-04</td>\n",
       "      <td>Auto</td>\n",
       "      <td>No</td>\n",
       "      <td>Material and injury</td>\n",
       "      <td>39192.0</td>\n",
       "      <td>1.0</td>\n",
       "      <td>Yes</td>\n",
       "      <td>0</td>\n",
       "    </tr>\n",
       "    <tr>\n",
       "      <th>287476</th>\n",
       "      <td>Male</td>\n",
       "      <td>1988-07-28</td>\n",
       "      <td>FL</td>\n",
       "      <td>3.645982e+09</td>\n",
       "      <td>Silver</td>\n",
       "      <td>45780237</td>\n",
       "      <td>287476</td>\n",
       "      <td>Natural causes</td>\n",
       "      <td>2017-10-17</td>\n",
       "      <td>Auto</td>\n",
       "      <td>Unknown</td>\n",
       "      <td>Material only</td>\n",
       "      <td>1621.5</td>\n",
       "      <td>2.0</td>\n",
       "      <td>Yes</td>\n",
       "      <td>Unknown</td>\n",
       "    </tr>\n",
       "    <tr>\n",
       "      <th>441097</th>\n",
       "      <td>Male</td>\n",
       "      <td>2071-08-19</td>\n",
       "      <td>CA</td>\n",
       "      <td>1.873488e+09</td>\n",
       "      <td>Gold</td>\n",
       "      <td>89833962</td>\n",
       "      <td>441097</td>\n",
       "      <td>Other causes</td>\n",
       "      <td>2018-03-21</td>\n",
       "      <td>Auto</td>\n",
       "      <td>Yes</td>\n",
       "      <td>Material and injury</td>\n",
       "      <td>37040.0</td>\n",
       "      <td>1.0</td>\n",
       "      <td>No</td>\n",
       "      <td>1</td>\n",
       "    </tr>\n",
       "    <tr>\n",
       "      <th>524545</th>\n",
       "      <td>Female</td>\n",
       "      <td>1980-08-10</td>\n",
       "      <td>NC</td>\n",
       "      <td>7.988625e+09</td>\n",
       "      <td>Gold</td>\n",
       "      <td>35782742</td>\n",
       "      <td>524545</td>\n",
       "      <td>Other driver error</td>\n",
       "      <td>2018-07-27</td>\n",
       "      <td>Auto</td>\n",
       "      <td>No</td>\n",
       "      <td>Injury only</td>\n",
       "      <td>35250.0</td>\n",
       "      <td>3.0</td>\n",
       "      <td>No</td>\n",
       "      <td>0</td>\n",
       "    </tr>\n",
       "    <tr>\n",
       "      <th>...</th>\n",
       "      <td>...</td>\n",
       "      <td>...</td>\n",
       "      <td>...</td>\n",
       "      <td>...</td>\n",
       "      <td>...</td>\n",
       "      <td>...</td>\n",
       "      <td>...</td>\n",
       "      <td>...</td>\n",
       "      <td>...</td>\n",
       "      <td>...</td>\n",
       "      <td>...</td>\n",
       "      <td>...</td>\n",
       "      <td>...</td>\n",
       "      <td>...</td>\n",
       "      <td>...</td>\n",
       "      <td>...</td>\n",
       "    </tr>\n",
       "    <tr>\n",
       "      <th>99674324</th>\n",
       "      <td>Male</td>\n",
       "      <td>2065-01-28</td>\n",
       "      <td>UT</td>\n",
       "      <td>5.175625e+09</td>\n",
       "      <td>Silver</td>\n",
       "      <td>4549014</td>\n",
       "      <td>99674324</td>\n",
       "      <td>Other causes</td>\n",
       "      <td>2018-07-07</td>\n",
       "      <td>Auto</td>\n",
       "      <td>No</td>\n",
       "      <td>Injury only</td>\n",
       "      <td>21480.0</td>\n",
       "      <td>1.0</td>\n",
       "      <td>No</td>\n",
       "      <td>0</td>\n",
       "    </tr>\n",
       "    <tr>\n",
       "      <th>99723844</th>\n",
       "      <td>Female</td>\n",
       "      <td>2066-06-19</td>\n",
       "      <td>HI</td>\n",
       "      <td>4.577521e+09</td>\n",
       "      <td>Gold</td>\n",
       "      <td>35453672</td>\n",
       "      <td>99723844</td>\n",
       "      <td>Natural causes</td>\n",
       "      <td>2018-01-06</td>\n",
       "      <td>Auto</td>\n",
       "      <td>Yes</td>\n",
       "      <td>Material and injury</td>\n",
       "      <td>14360.0</td>\n",
       "      <td>1.0</td>\n",
       "      <td>No</td>\n",
       "      <td>1</td>\n",
       "    </tr>\n",
       "    <tr>\n",
       "      <th>99761663</th>\n",
       "      <td>Female</td>\n",
       "      <td>2063-11-18</td>\n",
       "      <td>NC</td>\n",
       "      <td>6.432465e+09</td>\n",
       "      <td>Silver</td>\n",
       "      <td>37305754</td>\n",
       "      <td>99761663</td>\n",
       "      <td>Natural causes</td>\n",
       "      <td>2018-04-04</td>\n",
       "      <td>Auto</td>\n",
       "      <td>No</td>\n",
       "      <td>Material only</td>\n",
       "      <td>1242.0</td>\n",
       "      <td>1.0</td>\n",
       "      <td>Yes</td>\n",
       "      <td>0</td>\n",
       "    </tr>\n",
       "    <tr>\n",
       "      <th>99892000</th>\n",
       "      <td>Male</td>\n",
       "      <td>1995-06-08</td>\n",
       "      <td>OR</td>\n",
       "      <td>3.952466e+09</td>\n",
       "      <td>Gold</td>\n",
       "      <td>22960702</td>\n",
       "      <td>99892000</td>\n",
       "      <td>Driver error</td>\n",
       "      <td>2017-11-13</td>\n",
       "      <td>Auto</td>\n",
       "      <td>No</td>\n",
       "      <td>Material only</td>\n",
       "      <td>2415.0</td>\n",
       "      <td>2.0</td>\n",
       "      <td>Yes</td>\n",
       "      <td>0</td>\n",
       "    </tr>\n",
       "    <tr>\n",
       "      <th>99961993</th>\n",
       "      <td>Male</td>\n",
       "      <td>1995-06-10</td>\n",
       "      <td>AL</td>\n",
       "      <td>2.349433e+09</td>\n",
       "      <td>Platinum</td>\n",
       "      <td>47262068</td>\n",
       "      <td>99961993</td>\n",
       "      <td>Driver error</td>\n",
       "      <td>2018-10-23</td>\n",
       "      <td>Home</td>\n",
       "      <td>No</td>\n",
       "      <td>Material only</td>\n",
       "      <td>2310.0</td>\n",
       "      <td>1.0</td>\n",
       "      <td>No</td>\n",
       "      <td>0</td>\n",
       "    </tr>\n",
       "  </tbody>\n",
       "</table>\n",
       "<p>1078 rows × 16 columns</p>\n",
       "</div>"
      ],
      "text/plain": [
       "          gender DateOfBirth State       Contact   Segment  claim_id  \\\n",
       "CUST_ID                                                                \n",
       "154557    Female  1978-05-23    DE  9.628791e+09  Platinum  69348631   \n",
       "263204      Male  2072-12-20    TX  1.738926e+09    Silver  40953049   \n",
       "287476      Male  1988-07-28    FL  3.645982e+09    Silver  45780237   \n",
       "441097      Male  2071-08-19    CA  1.873488e+09      Gold  89833962   \n",
       "524545    Female  1980-08-10    NC  7.988625e+09      Gold  35782742   \n",
       "...          ...         ...   ...           ...       ...       ...   \n",
       "99674324    Male  2065-01-28    UT  5.175625e+09    Silver   4549014   \n",
       "99723844  Female  2066-06-19    HI  4.577521e+09      Gold  35453672   \n",
       "99761663  Female  2063-11-18    NC  6.432465e+09    Silver  37305754   \n",
       "99892000    Male  1995-06-08    OR  3.952466e+09      Gold  22960702   \n",
       "99961993    Male  1995-06-10    AL  2.349433e+09  Platinum  47262068   \n",
       "\n",
       "          customer_id      incident_cause claim_date claim_area police_report  \\\n",
       "CUST_ID                                                                         \n",
       "154557         154557        Driver error 2018-04-10       Auto            No   \n",
       "263204         263204        Other causes 2018-04-04       Auto            No   \n",
       "287476         287476      Natural causes 2017-10-17       Auto       Unknown   \n",
       "441097         441097        Other causes 2018-03-21       Auto           Yes   \n",
       "524545         524545  Other driver error 2018-07-27       Auto            No   \n",
       "...               ...                 ...        ...        ...           ...   \n",
       "99674324     99674324        Other causes 2018-07-07       Auto            No   \n",
       "99723844     99723844      Natural causes 2018-01-06       Auto           Yes   \n",
       "99761663     99761663      Natural causes 2018-04-04       Auto            No   \n",
       "99892000     99892000        Driver error 2017-11-13       Auto            No   \n",
       "99961993     99961993        Driver error 2018-10-23       Home            No   \n",
       "\n",
       "                   claim_type  claim_amount  total_policy_claims fraudulent  \\\n",
       "CUST_ID                                                                       \n",
       "154557            Injury only           NaN                  1.0        Yes   \n",
       "263204    Material and injury       39192.0                  1.0        Yes   \n",
       "287476          Material only        1621.5                  2.0        Yes   \n",
       "441097    Material and injury       37040.0                  1.0         No   \n",
       "524545            Injury only       35250.0                  3.0         No   \n",
       "...                       ...           ...                  ...        ...   \n",
       "99674324          Injury only       21480.0                  1.0         No   \n",
       "99723844  Material and injury       14360.0                  1.0         No   \n",
       "99761663        Material only        1242.0                  1.0        Yes   \n",
       "99892000        Material only        2415.0                  2.0        Yes   \n",
       "99961993        Material only        2310.0                  1.0         No   \n",
       "\n",
       "             flag  \n",
       "CUST_ID            \n",
       "154557          0  \n",
       "263204          0  \n",
       "287476    Unknown  \n",
       "441097          1  \n",
       "524545          0  \n",
       "...           ...  \n",
       "99674324        0  \n",
       "99723844        1  \n",
       "99761663        0  \n",
       "99892000        0  \n",
       "99961993        0  \n",
       "\n",
       "[1078 rows x 16 columns]"
      ]
     },
     "execution_count": 22,
     "metadata": {},
     "output_type": "execute_result"
    }
   ],
   "source": [
    "insurance_claims"
   ]
  },
  {
   "cell_type": "markdown",
   "id": "6c65a32d",
   "metadata": {},
   "source": [
    "## Q6. Check for missing values and impute the missing values with an appropriate value. (mean for continuous and mode for categorical)"
   ]
  },
  {
   "cell_type": "code",
   "execution_count": 24,
   "id": "30413441",
   "metadata": {},
   "outputs": [
    {
     "data": {
      "text/plain": [
       "gender                  0\n",
       "DateOfBirth             0\n",
       "State                   0\n",
       "Contact                 0\n",
       "Segment                 0\n",
       "claim_id                0\n",
       "customer_id             0\n",
       "incident_cause          0\n",
       "claim_date              0\n",
       "claim_area              0\n",
       "police_report           0\n",
       "claim_type              0\n",
       "claim_amount           65\n",
       "total_policy_claims    10\n",
       "fraudulent              0\n",
       "flag                    0\n",
       "dtype: int64"
      ]
     },
     "execution_count": 24,
     "metadata": {},
     "output_type": "execute_result"
    }
   ],
   "source": [
    "insurance_claims.isna().sum()"
   ]
  },
  {
   "cell_type": "code",
   "execution_count": 25,
   "id": "23adbee8",
   "metadata": {},
   "outputs": [],
   "source": [
    "# replacing null values in claim_amount col with mean\n",
    "insurance_claims.claim_amount=insurance_claims.claim_amount.fillna(insurance_claims.claim_amount.mean())"
   ]
  },
  {
   "cell_type": "code",
   "execution_count": 26,
   "id": "1c522db3",
   "metadata": {},
   "outputs": [],
   "source": [
    "# replacing null values in total_policy_claims col with mean\n",
    "insurance_claims.total_policy_claims=insurance_claims.total_policy_claims.fillna(insurance_claims.total_policy_claims.mean())"
   ]
  },
  {
   "cell_type": "code",
   "execution_count": 27,
   "id": "f15398b6",
   "metadata": {},
   "outputs": [
    {
     "data": {
      "text/plain": [
       "gender                 0\n",
       "DateOfBirth            0\n",
       "State                  0\n",
       "Contact                0\n",
       "Segment                0\n",
       "claim_id               0\n",
       "customer_id            0\n",
       "incident_cause         0\n",
       "claim_date             0\n",
       "claim_area             0\n",
       "police_report          0\n",
       "claim_type             0\n",
       "claim_amount           0\n",
       "total_policy_claims    0\n",
       "fraudulent             0\n",
       "flag                   0\n",
       "dtype: int64"
      ]
     },
     "execution_count": 27,
     "metadata": {},
     "output_type": "execute_result"
    }
   ],
   "source": [
    "insurance_claims.isna().sum()"
   ]
  },
  {
   "cell_type": "markdown",
   "id": "df8254ae",
   "metadata": {},
   "source": [
    "## Q7. Calculate the age of customers in years. Based on the age, categorize the customers according to the below criteria\n",
    "### Children < 18\n",
    "### Youth 18-30\n",
    "### Adult 30-60\n",
    "### Senior > 60"
   ]
  },
  {
   "cell_type": "code",
   "execution_count": 29,
   "id": "05fb4060",
   "metadata": {},
   "outputs": [],
   "source": [
    "insurance_claims[\"DateOfBirth\"] = insurance_claims[\"DateOfBirth\"].where(insurance_claims[\"DateOfBirth\"].dt.year <= 2020,\n",
    "                                                                          insurance_claims[\"DateOfBirth\"] - pd.DateOffset(years=100))\n"
   ]
  },
  {
   "cell_type": "code",
   "execution_count": 30,
   "id": "f3d8043a",
   "metadata": {},
   "outputs": [
    {
     "data": {
      "text/plain": [
       "CUST_ID\n",
       "154557     1978-05-23\n",
       "263204     1972-12-20\n",
       "287476     1988-07-28\n",
       "441097     1971-08-19\n",
       "524545     1980-08-10\n",
       "              ...    \n",
       "99674324   1965-01-28\n",
       "99723844   1966-06-19\n",
       "99761663   1963-11-18\n",
       "99892000   1995-06-08\n",
       "99961993   1995-06-10\n",
       "Name: DateOfBirth, Length: 1078, dtype: datetime64[ns]"
      ]
     },
     "execution_count": 30,
     "metadata": {},
     "output_type": "execute_result"
    }
   ],
   "source": [
    "insurance_claims.DateOfBirth"
   ]
  },
  {
   "cell_type": "code",
   "execution_count": 31,
   "id": "a0a0e004",
   "metadata": {},
   "outputs": [
    {
     "name": "stderr",
     "output_type": "stream",
     "text": [
      "C:\\Users\\fahad\\AppData\\Local\\Temp\\ipykernel_22096\\1471888283.py:1: FutureWarning: The pandas.datetime class is deprecated and will be removed from pandas in a future version. Import from datetime module instead.\n",
      "  insurance_claims['Age']= pd.datetime.today().year- insurance_claims['DateOfBirth'].dt.year\n"
     ]
    }
   ],
   "source": [
    "insurance_claims['Age']= pd.datetime.today().year- insurance_claims['DateOfBirth'].dt.year"
   ]
  },
  {
   "cell_type": "code",
   "execution_count": 32,
   "id": "e2ac1bac",
   "metadata": {},
   "outputs": [],
   "source": [
    "# creating a new col age group \n",
    "insurance_claims['Age_group']= np.where(insurance_claims.Age<18,'Children',\n",
    "                                        np.where(insurance_claims.Age<30,'Youth',\n",
    "                                        np.where(insurance_claims.Age<60,'Adult','Senior')))                        "
   ]
  },
  {
   "cell_type": "code",
   "execution_count": 33,
   "id": "ce51f7ba",
   "metadata": {},
   "outputs": [
    {
     "data": {
      "text/html": [
       "<div>\n",
       "<style scoped>\n",
       "    .dataframe tbody tr th:only-of-type {\n",
       "        vertical-align: middle;\n",
       "    }\n",
       "\n",
       "    .dataframe tbody tr th {\n",
       "        vertical-align: top;\n",
       "    }\n",
       "\n",
       "    .dataframe thead th {\n",
       "        text-align: right;\n",
       "    }\n",
       "</style>\n",
       "<table border=\"1\" class=\"dataframe\">\n",
       "  <thead>\n",
       "    <tr style=\"text-align: right;\">\n",
       "      <th></th>\n",
       "      <th>gender</th>\n",
       "      <th>DateOfBirth</th>\n",
       "      <th>State</th>\n",
       "      <th>Contact</th>\n",
       "      <th>Segment</th>\n",
       "      <th>claim_id</th>\n",
       "      <th>customer_id</th>\n",
       "      <th>incident_cause</th>\n",
       "      <th>claim_date</th>\n",
       "      <th>claim_area</th>\n",
       "      <th>police_report</th>\n",
       "      <th>claim_type</th>\n",
       "      <th>claim_amount</th>\n",
       "      <th>total_policy_claims</th>\n",
       "      <th>fraudulent</th>\n",
       "      <th>flag</th>\n",
       "      <th>Age</th>\n",
       "      <th>Age_group</th>\n",
       "    </tr>\n",
       "    <tr>\n",
       "      <th>CUST_ID</th>\n",
       "      <th></th>\n",
       "      <th></th>\n",
       "      <th></th>\n",
       "      <th></th>\n",
       "      <th></th>\n",
       "      <th></th>\n",
       "      <th></th>\n",
       "      <th></th>\n",
       "      <th></th>\n",
       "      <th></th>\n",
       "      <th></th>\n",
       "      <th></th>\n",
       "      <th></th>\n",
       "      <th></th>\n",
       "      <th></th>\n",
       "      <th></th>\n",
       "      <th></th>\n",
       "      <th></th>\n",
       "    </tr>\n",
       "  </thead>\n",
       "  <tbody>\n",
       "    <tr>\n",
       "      <th>154557</th>\n",
       "      <td>Female</td>\n",
       "      <td>1978-05-23</td>\n",
       "      <td>DE</td>\n",
       "      <td>9.628791e+09</td>\n",
       "      <td>Platinum</td>\n",
       "      <td>69348631</td>\n",
       "      <td>154557</td>\n",
       "      <td>Driver error</td>\n",
       "      <td>2018-04-10</td>\n",
       "      <td>Auto</td>\n",
       "      <td>No</td>\n",
       "      <td>Injury only</td>\n",
       "      <td>12470.498519</td>\n",
       "      <td>1.0</td>\n",
       "      <td>Yes</td>\n",
       "      <td>0</td>\n",
       "      <td>45</td>\n",
       "      <td>Adult</td>\n",
       "    </tr>\n",
       "    <tr>\n",
       "      <th>263204</th>\n",
       "      <td>Male</td>\n",
       "      <td>1972-12-20</td>\n",
       "      <td>TX</td>\n",
       "      <td>1.738926e+09</td>\n",
       "      <td>Silver</td>\n",
       "      <td>40953049</td>\n",
       "      <td>263204</td>\n",
       "      <td>Other causes</td>\n",
       "      <td>2018-04-04</td>\n",
       "      <td>Auto</td>\n",
       "      <td>No</td>\n",
       "      <td>Material and injury</td>\n",
       "      <td>39192.000000</td>\n",
       "      <td>1.0</td>\n",
       "      <td>Yes</td>\n",
       "      <td>0</td>\n",
       "      <td>51</td>\n",
       "      <td>Adult</td>\n",
       "    </tr>\n",
       "    <tr>\n",
       "      <th>287476</th>\n",
       "      <td>Male</td>\n",
       "      <td>1988-07-28</td>\n",
       "      <td>FL</td>\n",
       "      <td>3.645982e+09</td>\n",
       "      <td>Silver</td>\n",
       "      <td>45780237</td>\n",
       "      <td>287476</td>\n",
       "      <td>Natural causes</td>\n",
       "      <td>2017-10-17</td>\n",
       "      <td>Auto</td>\n",
       "      <td>Unknown</td>\n",
       "      <td>Material only</td>\n",
       "      <td>1621.500000</td>\n",
       "      <td>2.0</td>\n",
       "      <td>Yes</td>\n",
       "      <td>Unknown</td>\n",
       "      <td>35</td>\n",
       "      <td>Adult</td>\n",
       "    </tr>\n",
       "    <tr>\n",
       "      <th>441097</th>\n",
       "      <td>Male</td>\n",
       "      <td>1971-08-19</td>\n",
       "      <td>CA</td>\n",
       "      <td>1.873488e+09</td>\n",
       "      <td>Gold</td>\n",
       "      <td>89833962</td>\n",
       "      <td>441097</td>\n",
       "      <td>Other causes</td>\n",
       "      <td>2018-03-21</td>\n",
       "      <td>Auto</td>\n",
       "      <td>Yes</td>\n",
       "      <td>Material and injury</td>\n",
       "      <td>37040.000000</td>\n",
       "      <td>1.0</td>\n",
       "      <td>No</td>\n",
       "      <td>1</td>\n",
       "      <td>52</td>\n",
       "      <td>Adult</td>\n",
       "    </tr>\n",
       "    <tr>\n",
       "      <th>524545</th>\n",
       "      <td>Female</td>\n",
       "      <td>1980-08-10</td>\n",
       "      <td>NC</td>\n",
       "      <td>7.988625e+09</td>\n",
       "      <td>Gold</td>\n",
       "      <td>35782742</td>\n",
       "      <td>524545</td>\n",
       "      <td>Other driver error</td>\n",
       "      <td>2018-07-27</td>\n",
       "      <td>Auto</td>\n",
       "      <td>No</td>\n",
       "      <td>Injury only</td>\n",
       "      <td>35250.000000</td>\n",
       "      <td>3.0</td>\n",
       "      <td>No</td>\n",
       "      <td>0</td>\n",
       "      <td>43</td>\n",
       "      <td>Adult</td>\n",
       "    </tr>\n",
       "    <tr>\n",
       "      <th>...</th>\n",
       "      <td>...</td>\n",
       "      <td>...</td>\n",
       "      <td>...</td>\n",
       "      <td>...</td>\n",
       "      <td>...</td>\n",
       "      <td>...</td>\n",
       "      <td>...</td>\n",
       "      <td>...</td>\n",
       "      <td>...</td>\n",
       "      <td>...</td>\n",
       "      <td>...</td>\n",
       "      <td>...</td>\n",
       "      <td>...</td>\n",
       "      <td>...</td>\n",
       "      <td>...</td>\n",
       "      <td>...</td>\n",
       "      <td>...</td>\n",
       "      <td>...</td>\n",
       "    </tr>\n",
       "    <tr>\n",
       "      <th>99674324</th>\n",
       "      <td>Male</td>\n",
       "      <td>1965-01-28</td>\n",
       "      <td>UT</td>\n",
       "      <td>5.175625e+09</td>\n",
       "      <td>Silver</td>\n",
       "      <td>4549014</td>\n",
       "      <td>99674324</td>\n",
       "      <td>Other causes</td>\n",
       "      <td>2018-07-07</td>\n",
       "      <td>Auto</td>\n",
       "      <td>No</td>\n",
       "      <td>Injury only</td>\n",
       "      <td>21480.000000</td>\n",
       "      <td>1.0</td>\n",
       "      <td>No</td>\n",
       "      <td>0</td>\n",
       "      <td>58</td>\n",
       "      <td>Adult</td>\n",
       "    </tr>\n",
       "    <tr>\n",
       "      <th>99723844</th>\n",
       "      <td>Female</td>\n",
       "      <td>1966-06-19</td>\n",
       "      <td>HI</td>\n",
       "      <td>4.577521e+09</td>\n",
       "      <td>Gold</td>\n",
       "      <td>35453672</td>\n",
       "      <td>99723844</td>\n",
       "      <td>Natural causes</td>\n",
       "      <td>2018-01-06</td>\n",
       "      <td>Auto</td>\n",
       "      <td>Yes</td>\n",
       "      <td>Material and injury</td>\n",
       "      <td>14360.000000</td>\n",
       "      <td>1.0</td>\n",
       "      <td>No</td>\n",
       "      <td>1</td>\n",
       "      <td>57</td>\n",
       "      <td>Adult</td>\n",
       "    </tr>\n",
       "    <tr>\n",
       "      <th>99761663</th>\n",
       "      <td>Female</td>\n",
       "      <td>1963-11-18</td>\n",
       "      <td>NC</td>\n",
       "      <td>6.432465e+09</td>\n",
       "      <td>Silver</td>\n",
       "      <td>37305754</td>\n",
       "      <td>99761663</td>\n",
       "      <td>Natural causes</td>\n",
       "      <td>2018-04-04</td>\n",
       "      <td>Auto</td>\n",
       "      <td>No</td>\n",
       "      <td>Material only</td>\n",
       "      <td>1242.000000</td>\n",
       "      <td>1.0</td>\n",
       "      <td>Yes</td>\n",
       "      <td>0</td>\n",
       "      <td>60</td>\n",
       "      <td>Senior</td>\n",
       "    </tr>\n",
       "    <tr>\n",
       "      <th>99892000</th>\n",
       "      <td>Male</td>\n",
       "      <td>1995-06-08</td>\n",
       "      <td>OR</td>\n",
       "      <td>3.952466e+09</td>\n",
       "      <td>Gold</td>\n",
       "      <td>22960702</td>\n",
       "      <td>99892000</td>\n",
       "      <td>Driver error</td>\n",
       "      <td>2017-11-13</td>\n",
       "      <td>Auto</td>\n",
       "      <td>No</td>\n",
       "      <td>Material only</td>\n",
       "      <td>2415.000000</td>\n",
       "      <td>2.0</td>\n",
       "      <td>Yes</td>\n",
       "      <td>0</td>\n",
       "      <td>28</td>\n",
       "      <td>Youth</td>\n",
       "    </tr>\n",
       "    <tr>\n",
       "      <th>99961993</th>\n",
       "      <td>Male</td>\n",
       "      <td>1995-06-10</td>\n",
       "      <td>AL</td>\n",
       "      <td>2.349433e+09</td>\n",
       "      <td>Platinum</td>\n",
       "      <td>47262068</td>\n",
       "      <td>99961993</td>\n",
       "      <td>Driver error</td>\n",
       "      <td>2018-10-23</td>\n",
       "      <td>Home</td>\n",
       "      <td>No</td>\n",
       "      <td>Material only</td>\n",
       "      <td>2310.000000</td>\n",
       "      <td>1.0</td>\n",
       "      <td>No</td>\n",
       "      <td>0</td>\n",
       "      <td>28</td>\n",
       "      <td>Youth</td>\n",
       "    </tr>\n",
       "  </tbody>\n",
       "</table>\n",
       "<p>1078 rows × 18 columns</p>\n",
       "</div>"
      ],
      "text/plain": [
       "          gender DateOfBirth State       Contact   Segment  claim_id  \\\n",
       "CUST_ID                                                                \n",
       "154557    Female  1978-05-23    DE  9.628791e+09  Platinum  69348631   \n",
       "263204      Male  1972-12-20    TX  1.738926e+09    Silver  40953049   \n",
       "287476      Male  1988-07-28    FL  3.645982e+09    Silver  45780237   \n",
       "441097      Male  1971-08-19    CA  1.873488e+09      Gold  89833962   \n",
       "524545    Female  1980-08-10    NC  7.988625e+09      Gold  35782742   \n",
       "...          ...         ...   ...           ...       ...       ...   \n",
       "99674324    Male  1965-01-28    UT  5.175625e+09    Silver   4549014   \n",
       "99723844  Female  1966-06-19    HI  4.577521e+09      Gold  35453672   \n",
       "99761663  Female  1963-11-18    NC  6.432465e+09    Silver  37305754   \n",
       "99892000    Male  1995-06-08    OR  3.952466e+09      Gold  22960702   \n",
       "99961993    Male  1995-06-10    AL  2.349433e+09  Platinum  47262068   \n",
       "\n",
       "          customer_id      incident_cause claim_date claim_area police_report  \\\n",
       "CUST_ID                                                                         \n",
       "154557         154557        Driver error 2018-04-10       Auto            No   \n",
       "263204         263204        Other causes 2018-04-04       Auto            No   \n",
       "287476         287476      Natural causes 2017-10-17       Auto       Unknown   \n",
       "441097         441097        Other causes 2018-03-21       Auto           Yes   \n",
       "524545         524545  Other driver error 2018-07-27       Auto            No   \n",
       "...               ...                 ...        ...        ...           ...   \n",
       "99674324     99674324        Other causes 2018-07-07       Auto            No   \n",
       "99723844     99723844      Natural causes 2018-01-06       Auto           Yes   \n",
       "99761663     99761663      Natural causes 2018-04-04       Auto            No   \n",
       "99892000     99892000        Driver error 2017-11-13       Auto            No   \n",
       "99961993     99961993        Driver error 2018-10-23       Home            No   \n",
       "\n",
       "                   claim_type  claim_amount  total_policy_claims fraudulent  \\\n",
       "CUST_ID                                                                       \n",
       "154557            Injury only  12470.498519                  1.0        Yes   \n",
       "263204    Material and injury  39192.000000                  1.0        Yes   \n",
       "287476          Material only   1621.500000                  2.0        Yes   \n",
       "441097    Material and injury  37040.000000                  1.0         No   \n",
       "524545            Injury only  35250.000000                  3.0         No   \n",
       "...                       ...           ...                  ...        ...   \n",
       "99674324          Injury only  21480.000000                  1.0         No   \n",
       "99723844  Material and injury  14360.000000                  1.0         No   \n",
       "99761663        Material only   1242.000000                  1.0        Yes   \n",
       "99892000        Material only   2415.000000                  2.0        Yes   \n",
       "99961993        Material only   2310.000000                  1.0         No   \n",
       "\n",
       "             flag  Age Age_group  \n",
       "CUST_ID                           \n",
       "154557          0   45     Adult  \n",
       "263204          0   51     Adult  \n",
       "287476    Unknown   35     Adult  \n",
       "441097          1   52     Adult  \n",
       "524545          0   43     Adult  \n",
       "...           ...  ...       ...  \n",
       "99674324        0   58     Adult  \n",
       "99723844        1   57     Adult  \n",
       "99761663        0   60    Senior  \n",
       "99892000        0   28     Youth  \n",
       "99961993        0   28     Youth  \n",
       "\n",
       "[1078 rows x 18 columns]"
      ]
     },
     "execution_count": 33,
     "metadata": {},
     "output_type": "execute_result"
    }
   ],
   "source": [
    "insurance_claims"
   ]
  },
  {
   "cell_type": "markdown",
   "id": "ec012dc6",
   "metadata": {},
   "source": [
    "## Q8. What is the average amount claimed by the customers from various segments?"
   ]
  },
  {
   "cell_type": "code",
   "execution_count": 35,
   "id": "4fd8ffbe",
   "metadata": {},
   "outputs": [
    {
     "data": {
      "text/html": [
       "<div>\n",
       "<style scoped>\n",
       "    .dataframe tbody tr th:only-of-type {\n",
       "        vertical-align: middle;\n",
       "    }\n",
       "\n",
       "    .dataframe tbody tr th {\n",
       "        vertical-align: top;\n",
       "    }\n",
       "\n",
       "    .dataframe thead th {\n",
       "        text-align: right;\n",
       "    }\n",
       "</style>\n",
       "<table border=\"1\" class=\"dataframe\">\n",
       "  <thead>\n",
       "    <tr style=\"text-align: right;\">\n",
       "      <th></th>\n",
       "      <th>Segment</th>\n",
       "      <th>claim_amount</th>\n",
       "    </tr>\n",
       "  </thead>\n",
       "  <tbody>\n",
       "    <tr>\n",
       "      <th>0</th>\n",
       "      <td>Gold</td>\n",
       "      <td>12756.479697</td>\n",
       "    </tr>\n",
       "    <tr>\n",
       "      <th>1</th>\n",
       "      <td>Platinum</td>\n",
       "      <td>12369.304648</td>\n",
       "    </tr>\n",
       "    <tr>\n",
       "      <th>2</th>\n",
       "      <td>Silver</td>\n",
       "      <td>12269.434851</td>\n",
       "    </tr>\n",
       "  </tbody>\n",
       "</table>\n",
       "</div>"
      ],
      "text/plain": [
       "    Segment  claim_amount\n",
       "0      Gold  12756.479697\n",
       "1  Platinum  12369.304648\n",
       "2    Silver  12269.434851"
      ]
     },
     "execution_count": 35,
     "metadata": {},
     "output_type": "execute_result"
    }
   ],
   "source": [
    "insurance_claims.groupby('Segment')['claim_amount'].mean().reset_index()"
   ]
  },
  {
   "cell_type": "markdown",
   "id": "994852af",
   "metadata": {},
   "source": [
    "## Q9. What is the total claim amount based on incident cause for all the claims that have been done at least 20 days prior to 1st of October, 2018."
   ]
  },
  {
   "cell_type": "code",
   "execution_count": 37,
   "id": "c50292f3",
   "metadata": {},
   "outputs": [],
   "source": [
    "import datetime\n",
    "from datetime import datetime, timedelta"
   ]
  },
  {
   "cell_type": "code",
   "execution_count": 38,
   "id": "248904d0",
   "metadata": {},
   "outputs": [],
   "source": [
    "# getting date 20 days prior to 2018-10-1\n",
    "date_prior= pd.Timestamp(\"2018-10-1\") - pd.DateOffset(days=20)"
   ]
  },
  {
   "cell_type": "code",
   "execution_count": 39,
   "id": "68c6ad50",
   "metadata": {},
   "outputs": [],
   "source": [
    "# saving all record in a variable 20 days prior to 2018-10-1\n",
    "all_record= insurance_claims[insurance_claims[\"claim_date\"] < date_prior]"
   ]
  },
  {
   "cell_type": "code",
   "execution_count": 40,
   "id": "b001b41e",
   "metadata": {},
   "outputs": [
    {
     "data": {
      "text/html": [
       "<div>\n",
       "<style scoped>\n",
       "    .dataframe tbody tr th:only-of-type {\n",
       "        vertical-align: middle;\n",
       "    }\n",
       "\n",
       "    .dataframe tbody tr th {\n",
       "        vertical-align: top;\n",
       "    }\n",
       "\n",
       "    .dataframe thead th {\n",
       "        text-align: right;\n",
       "    }\n",
       "</style>\n",
       "<table border=\"1\" class=\"dataframe\">\n",
       "  <thead>\n",
       "    <tr style=\"text-align: right;\">\n",
       "      <th></th>\n",
       "      <th>incident_cause</th>\n",
       "      <th>claim_amount</th>\n",
       "    </tr>\n",
       "  </thead>\n",
       "  <tbody>\n",
       "    <tr>\n",
       "      <th>0</th>\n",
       "      <td>Crime</td>\n",
       "      <td>7.244625e+05</td>\n",
       "    </tr>\n",
       "    <tr>\n",
       "      <th>1</th>\n",
       "      <td>Driver error</td>\n",
       "      <td>3.264286e+06</td>\n",
       "    </tr>\n",
       "    <tr>\n",
       "      <th>2</th>\n",
       "      <td>Natural causes</td>\n",
       "      <td>1.312706e+06</td>\n",
       "    </tr>\n",
       "    <tr>\n",
       "      <th>3</th>\n",
       "      <td>Other causes</td>\n",
       "      <td>3.725038e+06</td>\n",
       "    </tr>\n",
       "    <tr>\n",
       "      <th>4</th>\n",
       "      <td>Other driver error</td>\n",
       "      <td>3.318806e+06</td>\n",
       "    </tr>\n",
       "  </tbody>\n",
       "</table>\n",
       "</div>"
      ],
      "text/plain": [
       "       incident_cause  claim_amount\n",
       "0               Crime  7.244625e+05\n",
       "1        Driver error  3.264286e+06\n",
       "2      Natural causes  1.312706e+06\n",
       "3        Other causes  3.725038e+06\n",
       "4  Other driver error  3.318806e+06"
      ]
     },
     "execution_count": 40,
     "metadata": {},
     "output_type": "execute_result"
    }
   ],
   "source": [
    "all_record.groupby('incident_cause')['claim_amount'].sum().reset_index()"
   ]
  },
  {
   "cell_type": "markdown",
   "id": "06c1e666",
   "metadata": {},
   "source": [
    "## Q10. How many adults from TX, DE and AK claimed insurance for driver related issues and causes?"
   ]
  },
  {
   "cell_type": "code",
   "execution_count": 42,
   "id": "98d55d0d",
   "metadata": {},
   "outputs": [],
   "source": [
    "adults_from_TX_DE_AK_insuarance_claim=\n",
    "insurance_claims[(insurance_claims['Age_group']=='Adult')&(insurance_claims['State'].isin(['TX','DE','AK']))&(insurance_claims['incident_cause'].isin(['Driver error','Other driver error']))]"
   ]
  },
  {
   "cell_type": "code",
   "execution_count": 43,
   "id": "c2817ec7",
   "metadata": {},
   "outputs": [
    {
     "name": "stdout",
     "output_type": "stream",
     "text": [
      "insuarance claimed by the adults from TX,DE and AK for driver related issues and causes are 27\n"
     ]
    }
   ],
   "source": [
    "print('insuarance claimed by the adults from TX,DE and AK for driver related issues and causes are',adults_from_TX_DE_AK_insuarance_claim.shape[0])"
   ]
  },
  {
   "cell_type": "markdown",
   "id": "9b167f96",
   "metadata": {},
   "source": [
    "## Q11. Draw a pie chart between the aggregated value of claim amount based on gender and segment. Represent the claim amount as a percentage on the pie chart."
   ]
  },
  {
   "cell_type": "code",
   "execution_count": 52,
   "id": "c8bd3bd7",
   "metadata": {},
   "outputs": [],
   "source": [
    "gender_segment=pd.pivot_table(insurance_claims, index =['Segment'],columns ='gender',values ='claim_amount',aggfunc='mean')"
   ]
  },
  {
   "cell_type": "code",
   "execution_count": 60,
   "id": "d407e779",
   "metadata": {},
   "outputs": [
    {
     "data": {
      "text/plain": [
       "array([<Axes: ylabel='Female'>, <Axes: ylabel='Male'>], dtype=object)"
      ]
     },
     "execution_count": 60,
     "metadata": {},
     "output_type": "execute_result"
    },
    {
     "data": {
      "image/png": "[encoded data removed]",
      "text/plain": [
       "<Figure size 640x480 with 2 Axes>"
      ]
     },
     "metadata": {},
     "output_type": "display_data"
    }
   ],
   "source": [
    "gender_segment.plot(kind='pie',autopct='%1.1f%%',subplots=True,legend=False,startangle=140, textprops={'fontsize': 10})"
   ]
  },
  {
   "cell_type": "markdown",
   "id": "bf275713",
   "metadata": {},
   "source": [
    "## Q12. Among males and females, which gender had claimed the most for any type of driver related issues? E.g. This metric can be compared using a bar chart."
   ]
  },
  {
   "cell_type": "code",
   "execution_count": 78,
   "id": "afb0741d",
   "metadata": {},
   "outputs": [],
   "source": [
    "driver_issues=insurance_claims.loc[insurance_claims[\"incident_cause\"].isin([\"Driver error\",\"Other driver error\"])]\n",
    "                                                                     .groupby(by=\"gender\")[\"claim_amount\"].count()"
   ]
  },
  {
   "cell_type": "code",
   "execution_count": 79,
   "id": "9d773167",
   "metadata": {},
   "outputs": [
    {
     "data": {
      "text/plain": [
       "gender\n",
       "Male    280\n",
       "Name: claim_amount, dtype: int64"
      ]
     },
     "execution_count": 79,
     "metadata": {},
     "output_type": "execute_result"
    }
   ],
   "source": [
    "driver_issues.nlargest(1)"
   ]
  },
  {
   "cell_type": "code",
   "execution_count": 84,
   "id": "1a0a58e8",
   "metadata": {},
   "outputs": [
    {
     "data": {
      "text/plain": [
       "Text(0, 0.5, 'count')"
      ]
     },
     "execution_count": 84,
     "metadata": {},
     "output_type": "execute_result"
    },
    {
     "data": {
      "image/png": "[encoded data removed]",
      "text/plain": [
       "<Figure size 640x480 with 1 Axes>"
      ]
     },
     "metadata": {},
     "output_type": "display_data"
    }
   ],
   "source": [
    "driver_issues.plot(kind='bar')\n",
    "plt.ylabel('count')"
   ]
  },
  {
   "cell_type": "markdown",
   "id": "d7560f84",
   "metadata": {},
   "source": [
    "## Q13. Which age group had the maximum fraudulent policy claims? Visualize it on a bar chart."
   ]
  },
  {
   "cell_type": "code",
   "execution_count": 129,
   "id": "cc5bd0bd",
   "metadata": {},
   "outputs": [],
   "source": [
    "age_group_fraud_case=insurance_claims.loc[insurance_claims['fraudulent'] == 'Yes'].groupby('Age_group')['total_policy_claims'].sum()"
   ]
  },
  {
   "cell_type": "code",
   "execution_count": 130,
   "id": "bbf21b91",
   "metadata": {},
   "outputs": [
    {
     "data": {
      "text/plain": [
       "Age_group\n",
       "Adult     318.582397\n",
       "Senior     50.000000\n",
       "Youth      61.000000\n",
       "Name: total_policy_claims, dtype: float64"
      ]
     },
     "execution_count": 130,
     "metadata": {},
     "output_type": "execute_result"
    }
   ],
   "source": [
    "age_group_fraud_case"
   ]
  },
  {
   "cell_type": "code",
   "execution_count": 131,
   "id": "5e5c1a63",
   "metadata": {},
   "outputs": [
    {
     "data": {
      "image/png": "[encoded data removed]",
      "text/plain": [
       "<Figure size 640x480 with 1 Axes>"
      ]
     },
     "metadata": {},
     "output_type": "display_data"
    }
   ],
   "source": [
    "age_group_fraud_case.plot(kind='bar')\n",
    "plt.xlabel(\"Age Groups\")\n",
    "plt.ylabel(\"Counts\")\n",
    "plt.title(\"Fraudulent Records By All Genders\")\n",
    "plt.show()"
   ]
  },
  {
   "cell_type": "markdown",
   "id": "3be81dbc",
   "metadata": {},
   "source": [
    "## Q14. Visualize the monthly trend of the total amount that has been claimed by the customers. Ensure that on the “month” axis, the month is in a chronological order not alphabetical order."
   ]
  },
  {
   "cell_type": "code",
   "execution_count": 114,
   "id": "a575fd69",
   "metadata": {},
   "outputs": [],
   "source": [
    "insurance_claims['Month']=insurance_claims[\"claim_date\"].dt.month_name()"
   ]
  },
  {
   "cell_type": "code",
   "execution_count": 116,
   "id": "ed07deef",
   "metadata": {},
   "outputs": [],
   "source": [
    "monthly_trend=insurance_claims.groupby('Month')['claim_amount'].sum()"
   ]
  },
  {
   "cell_type": "code",
   "execution_count": 117,
   "id": "b2accc8d",
   "metadata": {},
   "outputs": [
    {
     "data": {
      "text/plain": [
       "Month\n",
       "April        1.276071e+06\n",
       "August       9.112035e+05\n",
       "December     6.967015e+05\n",
       "February     1.133107e+06\n",
       "January      1.332012e+06\n",
       "July         1.379035e+06\n",
       "June         1.276333e+06\n",
       "March        1.320094e+06\n",
       "May          1.114211e+06\n",
       "November     6.011250e+05\n",
       "October      1.422655e+06\n",
       "September    9.806480e+05\n",
       "Name: claim_amount, dtype: float64"
      ]
     },
     "execution_count": 117,
     "metadata": {},
     "output_type": "execute_result"
    }
   ],
   "source": [
    "monthly_trend"
   ]
  },
  {
   "cell_type": "code",
   "execution_count": 123,
   "id": "0fc61a8f",
   "metadata": {},
   "outputs": [
    {
     "data": {
      "text/plain": [
       "Text(0.5, 1.0, 'Monthly Claimed Amount')"
      ]
     },
     "execution_count": 123,
     "metadata": {},
     "output_type": "execute_result"
    },
    {
     "data": {
      "image/png": "[encoded data removed]",
      "text/plain": [
       "<Figure size 640x480 with 1 Axes>"
      ]
     },
     "metadata": {},
     "output_type": "display_data"
    }
   ],
   "source": [
    "monthly_trend.plot(kind='line')\n",
    "plt.xlabel('Months')\n",
    "plt.ylabel('Claimed Amount')\n",
    "plt.title('Monthly Claimed Amount')"
   ]
  },
  {
   "cell_type": "markdown",
   "id": "58dbce5d",
   "metadata": {},
   "source": [
    "## Q15. What is the average claim amount for gender and age categories and suitably represent the above using a facetted bar chart, one facet that represents fraudulent claims and the other for non-fraudulent claims."
   ]
  },
  {
   "cell_type": "code",
   "execution_count": 132,
   "id": "aec36ac2",
   "metadata": {},
   "outputs": [],
   "source": [
    "fraudulent_cases=insurance_claims[insurance_claims['fraudulent']=='Yes'].groupby(['gender','Age_group'])['claim_amount'].mean()"
   ]
  },
  {
   "cell_type": "code",
   "execution_count": 134,
   "id": "e0539b86",
   "metadata": {},
   "outputs": [
    {
     "data": {
      "text/html": [
       "<div>\n",
       "<style scoped>\n",
       "    .dataframe tbody tr th:only-of-type {\n",
       "        vertical-align: middle;\n",
       "    }\n",
       "\n",
       "    .dataframe tbody tr th {\n",
       "        vertical-align: top;\n",
       "    }\n",
       "\n",
       "    .dataframe thead th {\n",
       "        text-align: right;\n",
       "    }\n",
       "</style>\n",
       "<table border=\"1\" class=\"dataframe\">\n",
       "  <thead>\n",
       "    <tr style=\"text-align: right;\">\n",
       "      <th></th>\n",
       "      <th>gender</th>\n",
       "      <th>Age_group</th>\n",
       "      <th>claim_amount</th>\n",
       "    </tr>\n",
       "  </thead>\n",
       "  <tbody>\n",
       "    <tr>\n",
       "      <th>0</th>\n",
       "      <td>Female</td>\n",
       "      <td>Adult</td>\n",
       "      <td>12647.913851</td>\n",
       "    </tr>\n",
       "    <tr>\n",
       "      <th>1</th>\n",
       "      <td>Female</td>\n",
       "      <td>Senior</td>\n",
       "      <td>3332.294118</td>\n",
       "    </tr>\n",
       "    <tr>\n",
       "      <th>2</th>\n",
       "      <td>Female</td>\n",
       "      <td>Youth</td>\n",
       "      <td>10140.687315</td>\n",
       "    </tr>\n",
       "    <tr>\n",
       "      <th>3</th>\n",
       "      <td>Male</td>\n",
       "      <td>Adult</td>\n",
       "      <td>15597.242176</td>\n",
       "    </tr>\n",
       "    <tr>\n",
       "      <th>4</th>\n",
       "      <td>Male</td>\n",
       "      <td>Senior</td>\n",
       "      <td>19463.111111</td>\n",
       "    </tr>\n",
       "    <tr>\n",
       "      <th>5</th>\n",
       "      <td>Male</td>\n",
       "      <td>Youth</td>\n",
       "      <td>8935.799901</td>\n",
       "    </tr>\n",
       "  </tbody>\n",
       "</table>\n",
       "</div>"
      ],
      "text/plain": [
       "   gender Age_group  claim_amount\n",
       "0  Female     Adult  12647.913851\n",
       "1  Female    Senior   3332.294118\n",
       "2  Female     Youth  10140.687315\n",
       "3    Male     Adult  15597.242176\n",
       "4    Male    Senior  19463.111111\n",
       "5    Male     Youth   8935.799901"
      ]
     },
     "execution_count": 134,
     "metadata": {},
     "output_type": "execute_result"
    }
   ],
   "source": [
    "fraudulent_cases.reset_index()"
   ]
  },
  {
   "cell_type": "code",
   "execution_count": 135,
   "id": "245d327b",
   "metadata": {},
   "outputs": [],
   "source": [
    "non_fraudulent_cases=insurance_claims[insurance_claims['fraudulent']=='No'].groupby(['gender','Age_group'])['claim_amount'].mean()"
   ]
  },
  {
   "cell_type": "code",
   "execution_count": 137,
   "id": "d6201194",
   "metadata": {},
   "outputs": [
    {
     "data": {
      "text/html": [
       "<div>\n",
       "<style scoped>\n",
       "    .dataframe tbody tr th:only-of-type {\n",
       "        vertical-align: middle;\n",
       "    }\n",
       "\n",
       "    .dataframe tbody tr th {\n",
       "        vertical-align: top;\n",
       "    }\n",
       "\n",
       "    .dataframe thead th {\n",
       "        text-align: right;\n",
       "    }\n",
       "</style>\n",
       "<table border=\"1\" class=\"dataframe\">\n",
       "  <thead>\n",
       "    <tr style=\"text-align: right;\">\n",
       "      <th></th>\n",
       "      <th>gender</th>\n",
       "      <th>Age_group</th>\n",
       "      <th>claim_amount</th>\n",
       "    </tr>\n",
       "  </thead>\n",
       "  <tbody>\n",
       "    <tr>\n",
       "      <th>0</th>\n",
       "      <td>Female</td>\n",
       "      <td>Adult</td>\n",
       "      <td>12160.683284</td>\n",
       "    </tr>\n",
       "    <tr>\n",
       "      <th>1</th>\n",
       "      <td>Female</td>\n",
       "      <td>Senior</td>\n",
       "      <td>13344.939125</td>\n",
       "    </tr>\n",
       "    <tr>\n",
       "      <th>2</th>\n",
       "      <td>Female</td>\n",
       "      <td>Youth</td>\n",
       "      <td>13148.257288</td>\n",
       "    </tr>\n",
       "    <tr>\n",
       "      <th>3</th>\n",
       "      <td>Male</td>\n",
       "      <td>Adult</td>\n",
       "      <td>12115.963041</td>\n",
       "    </tr>\n",
       "    <tr>\n",
       "      <th>4</th>\n",
       "      <td>Male</td>\n",
       "      <td>Senior</td>\n",
       "      <td>10869.558071</td>\n",
       "    </tr>\n",
       "    <tr>\n",
       "      <th>5</th>\n",
       "      <td>Male</td>\n",
       "      <td>Youth</td>\n",
       "      <td>13275.506548</td>\n",
       "    </tr>\n",
       "  </tbody>\n",
       "</table>\n",
       "</div>"
      ],
      "text/plain": [
       "   gender Age_group  claim_amount\n",
       "0  Female     Adult  12160.683284\n",
       "1  Female    Senior  13344.939125\n",
       "2  Female     Youth  13148.257288\n",
       "3    Male     Adult  12115.963041\n",
       "4    Male    Senior  10869.558071\n",
       "5    Male     Youth  13275.506548"
      ]
     },
     "execution_count": 137,
     "metadata": {},
     "output_type": "execute_result"
    }
   ],
   "source": [
    "non_fraudulent_cases.reset_index()"
   ]
  },
  {
   "cell_type": "code",
   "execution_count": 142,
   "id": "90f61feb",
   "metadata": {},
   "outputs": [
    {
     "data": {
      "text/plain": [
       "Text(0.5, 1.0, 'fraudulent claims')"
      ]
     },
     "execution_count": 142,
     "metadata": {},
     "output_type": "execute_result"
    },
    {
     "data": {
      "image/png": "[encoded data removed]",
      "text/plain": [
       "<Figure size 640x480 with 1 Axes>"
      ]
     },
     "metadata": {},
     "output_type": "display_data"
    }
   ],
   "source": [
    "fraudulent_cases.plot(kind='barh')\n",
    "plt.xlabel('amount claimed')\n",
    "plt.ylabel('gender and age group')\n",
    "plt.title('fraudulent claims')"
   ]
  },
  {
   "cell_type": "code",
   "execution_count": 143,
   "id": "b51188e5",
   "metadata": {},
   "outputs": [
    {
     "data": {
      "text/plain": [
       "Text(0.5, 1.0, 'non fraudulent claims')"
      ]
     },
     "execution_count": 143,
     "metadata": {},
     "output_type": "execute_result"
    },
    {
     "data": {
      "image/png": "[encoded data removed]",
      "text/plain": [
       "<Figure size 640x480 with 1 Axes>"
      ]
     },
     "metadata": {},
     "output_type": "display_data"
    }
   ],
   "source": [
    "non_fraudulent_cases.plot(kind='barh')\n",
    "plt.xlabel('amount claimed')\n",
    "plt.ylabel('gender and age group')\n",
    "plt.title('non fraudulent claims')"
   ]
  },
  {
   "cell_type": "code",
   "execution_count": null,
   "id": "a1ea59d6",
   "metadata": {},
   "outputs": [],
   "source": []
  },
  {
   "cell_type": "markdown",
   "id": "077b9ee8",
   "metadata": {},
   "source": [
    "## Based on the conclusions from exploratory analysis as well as suitable statistical tests, answer the below questions. Please include a detailed write-up on the parameters taken into consideration, the Hypothesis testing steps, conclusion from the p-values and the business implications of the statements. \n",
    " \n",
    "## Q16. Is there any similarity in the amount claimed  by males and females?"
   ]
  },
  {
   "cell_type": "code",
   "execution_count": 162,
   "id": "cac6ac01",
   "metadata": {},
   "outputs": [],
   "source": [
    "# H0 Null Hypothesis \n",
    "   # That there is no relationship between the amount claimed by different genders\n",
    "    \n",
    "#Ha Alternative Hypothesis\n",
    "  # That there is a relationship between the amount claimed by different genders\n",
    "    \n",
    "# Taking a confidence interval of 95% and p-value of 0.05\n",
    "# We will take a significance level of 5%"
   ]
  },
  {
   "cell_type": "code",
   "execution_count": 145,
   "id": "eddc9eca",
   "metadata": {},
   "outputs": [
    {
     "data": {
      "text/plain": [
       "Male      551\n",
       "Female    527\n",
       "Name: gender, dtype: int64"
      ]
     },
     "execution_count": 145,
     "metadata": {},
     "output_type": "execute_result"
    }
   ],
   "source": [
    "insurance_claims.gender.value_counts()"
   ]
  },
  {
   "cell_type": "code",
   "execution_count": 146,
   "id": "4b1ceb5f",
   "metadata": {},
   "outputs": [],
   "source": [
    "import scipy.stats as stats"
   ]
  },
  {
   "cell_type": "code",
   "execution_count": 147,
   "id": "163cfd90",
   "metadata": {},
   "outputs": [],
   "source": [
    "male_spend=insurance_claims[insurance_claims['gender']=='Male'].claim_amount"
   ]
  },
  {
   "cell_type": "code",
   "execution_count": 149,
   "id": "73ae6a17",
   "metadata": {},
   "outputs": [],
   "source": [
    "female_spend=insurance_claims[insurance_claims['gender']=='Female'].claim_amount"
   ]
  },
  {
   "cell_type": "code",
   "execution_count": 151,
   "id": "dd57793f",
   "metadata": {},
   "outputs": [
    {
     "data": {
      "text/plain": [
       "Ttest_indResult(statistic=0.8848703612768547, pvalue=0.3764242430541366)"
      ]
     },
     "execution_count": 151,
     "metadata": {},
     "output_type": "execute_result"
    }
   ],
   "source": [
    "stats.ttest_ind(male_spend,female_spend)"
   ]
  },
  {
   "cell_type": "code",
   "execution_count": 152,
   "id": "07e3ceb0",
   "metadata": {},
   "outputs": [],
   "source": [
    "## As we can see that the p-value is greater than 0.05 we fail to reject null hypothesis "
   ]
  },
  {
   "cell_type": "code",
   "execution_count": 153,
   "id": "d5787040",
   "metadata": {},
   "outputs": [
    {
     "name": "stdout",
     "output_type": "stream",
     "text": [
      "Total Average Amount Claimed by Males : 12822.816600168768\n",
      "Total Average Amount Claimed by Females : 12102.135592140878\n",
      "Conclusion : There is no Difference Between claimed amount by different Genders\n"
     ]
    }
   ],
   "source": [
    "# Conclusion\n",
    "    # There is no difference between claimed amount by different gender\n",
    "\n",
    "print(\"Total Average Amount Claimed by Males :\", male_spend.mean())\n",
    "print(\"Total Average Amount Claimed by Females :\", female_spend.mean())\n",
    "print(\"Conclusion :\", \"There is no Difference Between claimed amount by different Genders\")"
   ]
  },
  {
   "cell_type": "markdown",
   "id": "34ec8619",
   "metadata": {},
   "source": [
    "## Q17.  Is there any relationship between age category and segment?"
   ]
  },
  {
   "cell_type": "code",
   "execution_count": null,
   "id": "f1be478b",
   "metadata": {},
   "outputs": [],
   "source": [
    "# H0 Null Hypothesis\n",
    "  # There is no relationship between age category and segment\n",
    "    \n",
    "#Ha Alternative Hypothesis\n",
    "  # There is a relationship between age category and segment\n",
    "    \n",
    "# Taking a confidence interval of 95% and p-value of 0.05\n",
    "# Finding the relationship between age category and segment with chi-square-test"
   ]
  },
  {
   "cell_type": "code",
   "execution_count": 155,
   "id": "27d1d641",
   "metadata": {},
   "outputs": [],
   "source": [
    "age_category_and_segment= pd.crosstab( insurance_claims.Segment, insurance_claims.Age_group )"
   ]
  },
  {
   "cell_type": "code",
   "execution_count": 156,
   "id": "844ad1bf",
   "metadata": {},
   "outputs": [
    {
     "data": {
      "text/html": [
       "<div>\n",
       "<style scoped>\n",
       "    .dataframe tbody tr th:only-of-type {\n",
       "        vertical-align: middle;\n",
       "    }\n",
       "\n",
       "    .dataframe tbody tr th {\n",
       "        vertical-align: top;\n",
       "    }\n",
       "\n",
       "    .dataframe thead th {\n",
       "        text-align: right;\n",
       "    }\n",
       "</style>\n",
       "<table border=\"1\" class=\"dataframe\">\n",
       "  <thead>\n",
       "    <tr style=\"text-align: right;\">\n",
       "      <th>Age_group</th>\n",
       "      <th>Adult</th>\n",
       "      <th>Senior</th>\n",
       "      <th>Youth</th>\n",
       "    </tr>\n",
       "    <tr>\n",
       "      <th>Segment</th>\n",
       "      <th></th>\n",
       "      <th></th>\n",
       "      <th></th>\n",
       "    </tr>\n",
       "  </thead>\n",
       "  <tbody>\n",
       "    <tr>\n",
       "      <th>Gold</th>\n",
       "      <td>277</td>\n",
       "      <td>38</td>\n",
       "      <td>56</td>\n",
       "    </tr>\n",
       "    <tr>\n",
       "      <th>Platinum</th>\n",
       "      <td>268</td>\n",
       "      <td>34</td>\n",
       "      <td>59</td>\n",
       "    </tr>\n",
       "    <tr>\n",
       "      <th>Silver</th>\n",
       "      <td>257</td>\n",
       "      <td>30</td>\n",
       "      <td>59</td>\n",
       "    </tr>\n",
       "  </tbody>\n",
       "</table>\n",
       "</div>"
      ],
      "text/plain": [
       "Age_group  Adult  Senior  Youth\n",
       "Segment                        \n",
       "Gold         277      38     56\n",
       "Platinum     268      34     59\n",
       "Silver       257      30     59"
      ]
     },
     "execution_count": 156,
     "metadata": {},
     "output_type": "execute_result"
    }
   ],
   "source": [
    "age_category_and_segment"
   ]
  },
  {
   "cell_type": "code",
   "execution_count": 157,
   "id": "f3ecc418",
   "metadata": {},
   "outputs": [
    {
     "data": {
      "text/plain": [
       "Chi2ContingencyResult(statistic=0.9130129732295923, pvalue=0.9226865183013125, dof=4, expected_freq=array([[276.01298701,  35.1038961 ,  59.88311688],\n",
       "       [268.57328386,  34.15769944,  58.2690167 ],\n",
       "       [257.41372913,  32.73840445,  55.84786642]]))"
      ]
     },
     "execution_count": 157,
     "metadata": {},
     "output_type": "execute_result"
    }
   ],
   "source": [
    "stats.chi2_contingency(observed=age_category_and_segment)"
   ]
  },
  {
   "cell_type": "code",
   "execution_count": 160,
   "id": "a590eee8",
   "metadata": {
    "scrolled": true
   },
   "outputs": [
    {
     "name": "stdout",
     "output_type": "stream",
     "text": [
      "As the p-value is greater than 0.05 we fail to reject null hypothesis and there is no relationship between age category and segment\n"
     ]
    }
   ],
   "source": [
    "print('As the p-value is greater than 0.05 we fail to reject null hypothesis and there is no relationship between age category and segment')"
   ]
  },
  {
   "cell_type": "markdown",
   "id": "2cc2069b",
   "metadata": {},
   "source": [
    "\n",
    "## Q18. The current year has shown a significant rise in claim amounts as compared to 2016-17 fiscal average which was 10,000."
   ]
  },
  {
   "cell_type": "code",
   "execution_count": 165,
   "id": "d3929116",
   "metadata": {},
   "outputs": [],
   "source": [
    "insurance_claims[\"year\"]=  insurance_claims[\"claim_date\"].dt.year"
   ]
  },
  {
   "cell_type": "code",
   "execution_count": 185,
   "id": "1f8c189b",
   "metadata": {},
   "outputs": [],
   "source": [
    "amount_2017=insurance_claims[insurance_claims['year']==2017].claim_amount"
   ]
  },
  {
   "cell_type": "code",
   "execution_count": 178,
   "id": "8a47e933",
   "metadata": {},
   "outputs": [],
   "source": [
    "amount_2018=insurance_claims[insurance_claims['year']==2018].claim_amount"
   ]
  },
  {
   "cell_type": "code",
   "execution_count": 179,
   "id": "8ae81146",
   "metadata": {},
   "outputs": [],
   "source": [
    "# H0 Null Hypothesis\n",
    "  # There is no significant rise in claim amount as compared to 2016-2017 fiscal year\n",
    "    \n",
    "#Ha Alternative Hypothesis\n",
    "  # There is a significant rise in claim amount as compared to 2016-2017 fiscal year\n",
    "    \n",
    "# Taking a confidence interval of 95% and p-value of 0.05\n",
    "# Finding the relationship with t-test"
   ]
  },
  {
   "cell_type": "code",
   "execution_count": 187,
   "id": "31f90824",
   "metadata": {},
   "outputs": [
    {
     "data": {
      "text/plain": [
       "Ttest_indResult(statistic=-0.4777952749526742, pvalue=0.6328929702726953)"
      ]
     },
     "execution_count": 187,
     "metadata": {},
     "output_type": "execute_result"
    }
   ],
   "source": [
    "stats.ttest_ind(amount_2017,amount_2018)"
   ]
  },
  {
   "cell_type": "code",
   "execution_count": null,
   "id": "980b0ceb",
   "metadata": {},
   "outputs": [],
   "source": [
    "# Insights \n",
    "     # I got p-value greater than 0.05 that means with 95% confidence, I will fail to reject the null hypothesis"
   ]
  },
  {
   "cell_type": "code",
   "execution_count": 188,
   "id": "7f62d5b1",
   "metadata": {},
   "outputs": [
    {
     "name": "stdout",
     "output_type": "stream",
     "text": [
      "Claim Amount Raised by Customers in 2017 : 7340622.454096742\n",
      "Claim Amount Raised by Customers in 2018 : 6102574.949654492\n",
      "Conclusion : There is no significant rise in claim amount in year 2018\n"
     ]
    }
   ],
   "source": [
    "# Conclusion\n",
    "    # There is no significant rise in claim amount\n",
    "print(\"Claim Amount Raised by Customers in 2017 :\", amount_2017.sum())\n",
    "print(\"Claim Amount Raised by Customers in 2018 :\", amount_2018.sum())\n",
    "print(\"Conclusion :\", \"There is no significant rise in claim amount in year 2018\")"
   ]
  },
  {
   "cell_type": "code",
   "execution_count": null,
   "id": "b5f4cde6",
   "metadata": {},
   "outputs": [],
   "source": []
  },
  {
   "cell_type": "markdown",
   "id": "a89b6e03",
   "metadata": {},
   "source": [
    "##  Q19. Is there any difference between age groups and insurance claims?"
   ]
  },
  {
   "cell_type": "code",
   "execution_count": 192,
   "id": "e2a83afb",
   "metadata": {},
   "outputs": [],
   "source": [
    "youth=insurance_claims[insurance_claims['Age_group']=='Youth'].claim_amount"
   ]
  },
  {
   "cell_type": "code",
   "execution_count": 193,
   "id": "096ef56c",
   "metadata": {},
   "outputs": [],
   "source": [
    "adults=insurance_claims[insurance_claims['Age_group']=='Adult'].claim_amount"
   ]
  },
  {
   "cell_type": "code",
   "execution_count": 194,
   "id": "540d5329",
   "metadata": {},
   "outputs": [],
   "source": [
    "seniors=insurance_claims[insurance_claims['Age_group']=='Senior'].claim_amount"
   ]
  },
  {
   "cell_type": "code",
   "execution_count": null,
   "id": "e123d76e",
   "metadata": {},
   "outputs": [],
   "source": [
    "# Defining Null Hypothesis H0\n",
    "    # There is no difference between age group and insurance claim\n",
    "# Defining Alternate Hypothesis H1\n",
    "    # There is a difference between age grroup and insurance claim\n",
    "    \n",
    "# Taking Confidence Level at 95%, and p-value at 0.05\n",
    "\n",
    "# as i have 3 groups with me, i will use ANOVA test - Analysis of Variance (basically helps in finding the variation between groups)\n"
   ]
  },
  {
   "cell_type": "code",
   "execution_count": 196,
   "id": "e15f52d4",
   "metadata": {},
   "outputs": [
    {
     "data": {
      "text/plain": [
       "F_onewayResult(statistic=0.5319095867455867, pvalue=0.5876365869309259)"
      ]
     },
     "execution_count": 196,
     "metadata": {},
     "output_type": "execute_result"
    }
   ],
   "source": [
    "stats.f_oneway(youth,adults,seniors,axis=0)"
   ]
  },
  {
   "cell_type": "code",
   "execution_count": 199,
   "id": "98928d77",
   "metadata": {},
   "outputs": [],
   "source": [
    "# Insights \n",
    "     # I got p-value greater than 0.05 that means with 95% confidence,we failed to reject the null hypothesis"
   ]
  },
  {
   "cell_type": "code",
   "execution_count": 200,
   "id": "4a766bea",
   "metadata": {},
   "outputs": [
    {
     "name": "stdout",
     "output_type": "stream",
     "text": [
      "Conclusion : There is no difference between age groups and insurance claims\n"
     ]
    }
   ],
   "source": [
    "# Conclusion\n",
    "print(\"Conclusion :\", \"There is no difference between age groups and insurance claims\")"
   ]
  },
  {
   "cell_type": "code",
   "execution_count": null,
   "id": "0354c232",
   "metadata": {},
   "outputs": [],
   "source": []
  },
  {
   "cell_type": "markdown",
   "id": "42a3fab8",
   "metadata": {},
   "source": [
    "## Q20. Is there any relationship between total number of policy claims and the claimed amount?"
   ]
  },
  {
   "cell_type": "code",
   "execution_count": 202,
   "id": "25977c85",
   "metadata": {},
   "outputs": [],
   "source": [
    "# Defining Null Hypothesis H0\n",
    "    # There is no relationship between the total number of policy claims and claimed amount\n",
    "# Defining Alternate Hypothesis H1\n",
    "    # There is a relationship between the total number of policy claims and claimed amount\n",
    "    \n",
    "# Taking Confidence Level at 95%, and p-value at 0.05\n",
    "\n",
    "# Finding the  relation between these two continous variables using Pearson test"
   ]
  },
  {
   "cell_type": "code",
   "execution_count": 203,
   "id": "e8599328",
   "metadata": {},
   "outputs": [
    {
     "data": {
      "text/plain": [
       "PearsonRResult(statistic=-0.014291136186627366, pvalue=0.6392846937920396)"
      ]
     },
     "execution_count": 203,
     "metadata": {},
     "output_type": "execute_result"
    }
   ],
   "source": [
    "stats.pearsonr(insurance_claims.total_policy_claims,insurance_claims.claim_amount)"
   ]
  },
  {
   "cell_type": "code",
   "execution_count": 204,
   "id": "587d3c2c",
   "metadata": {},
   "outputs": [],
   "source": [
    "# Insights \n",
    "     # I got p-value greater than 0.05 that means with 95% confidence, I will fail to reject the null hypothesis"
   ]
  },
  {
   "cell_type": "code",
   "execution_count": 205,
   "id": "d4ddbb8f",
   "metadata": {},
   "outputs": [
    {
     "name": "stdout",
     "output_type": "stream",
     "text": [
      "Conclusion : The number of policy claims and the claimed amount are independent of each other.\n"
     ]
    }
   ],
   "source": [
    "# Conclusion\n",
    "    #There is no relationship between the total number of policy claims and claimed amount\n",
    "print(\"Conclusion :\", \"The number of policy claims and the claimed amount are independent of each other.\")"
   ]
  },
  {
   "cell_type": "code",
   "execution_count": null,
   "id": "ab7abeb8",
   "metadata": {},
   "outputs": [],
   "source": []
  }
 ],
 "metadata": {
  "kernelspec": {
   "display_name": "Python 3 (ipykernel)",
   "language": "python",
   "name": "python3"
  },
  "language_info": {
   "codemirror_mode": {
    "name": "ipython",
    "version": 3
   },
   "file_extension": ".py",
   "mimetype": "text/x-python",
   "name": "python",
   "nbconvert_exporter": "python",
   "pygments_lexer": "ipython3",
   "version": "3.10.9"
  }
 },
 "nbformat": 4,
 "nbformat_minor": 5
}
